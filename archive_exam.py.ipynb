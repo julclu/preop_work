{
 "cells": [
  {
   "cell_type": "code",
   "execution_count": 1,
   "metadata": {
    "collapsed": true,
    "deletable": true,
    "editable": true
   },
   "outputs": [],
   "source": [
    "import os\n",
    "import glob\n",
    "import argparse \n",
    "import subprocess as sub\n",
    "import shlex \n",
    "import pandas as pd\n",
    "from subprocess import PIPE, Popen\n",
    "import numpy as np"
   ]
  },
  {
   "cell_type": "code",
   "execution_count": 2,
   "metadata": {
    "collapsed": false,
    "deletable": true,
    "editable": true
   },
   "outputs": [
    {
     "data": {
      "text/plain": [
       "_StoreAction(option_strings=['--StudyName'], dest='StudyName', nargs=1, const=None, default='po1_preop_recur', type=<class 'str'>, choices=None, help='Study Identifier', metavar='S')"
      ]
     },
     "execution_count": 2,
     "metadata": {},
     "output_type": "execute_result"
    }
   ],
   "source": [
    "########### Create an argument parser \n",
    "parser = argparse.ArgumentParser(description='In this script we will import a single bnum/tnum, run the archive_exam perl script, and then dcm_qr to desired location.')\n",
    "parser.add_argument('bnum', type=str, nargs=1, help='Input the b-number of the patient.')\n",
    "parser.add_argument('tnum', metavar = 'C', type =str, nargs = 1, help = 'Input the t-number of the scan.')\n",
    "parser.add_argument('--NewLocation', metavar = 'N', default = '/data/RECglioma/archived', type = str, nargs = 1, help = 'New location for your de-identified exam.')\n",
    "parser.add_argument('--StudyName', metavar = 'S', default = 'po1_preop_recur', type = str, nargs = 1, help = \"Study Identifier\")\n"
   ]
  },
  {
   "cell_type": "code",
   "execution_count": 4,
   "metadata": {
    "collapsed": true,
    "deletable": true,
    "editable": true
   },
   "outputs": [],
   "source": [
    "## Test case for right now b2586/t6038\n",
    "args = parser.parse_args('b2586 t6038'.split())"
   ]
  },
  {
   "cell_type": "code",
   "execution_count": null,
   "metadata": {
    "collapsed": true,
    "deletable": true,
    "editable": true
   },
   "outputs": [],
   "source": []
  },
  {
   "cell_type": "code",
   "execution_count": 5,
   "metadata": {
    "collapsed": true,
    "deletable": true,
    "editable": true
   },
   "outputs": [],
   "source": [
    "########### Create strings of the arguments \n",
    "\n",
    "bnum = ''.join(args.bnum)\n",
    "tnum = ''.join(args.tnum)\n",
    "newloc = ''.join(args.NewLocation)\n",
    "studytag = ''.join(args.StudyName)"
   ]
  },
  {
   "cell_type": "code",
   "execution_count": 6,
   "metadata": {
    "collapsed": false,
    "deletable": true,
    "editable": true
   },
   "outputs": [],
   "source": [
    "\n",
    "########### Function for creating pathname and changing to directory name: \n",
    "preop_path_root = \"/data/bioe4/po1_preop_recur/\"\n",
    "def change_path(pathname_root):\n",
    "    pathname = pathname_root+bnum+'/'+tnum\n",
    "    os.chdir(pathname)\n",
    "    \n",
    "change_path(preop_path_root)"
   ]
  },
  {
   "cell_type": "code",
   "execution_count": 9,
   "metadata": {
    "collapsed": false,
    "deletable": true,
    "editable": true
   },
   "outputs": [
    {
     "name": "stdout",
     "output_type": "stream",
     "text": [
      "['3', '9', '4', '10', '401', '5', '8', '2', '6', '400', '1', '11']\n"
     ]
    }
   ],
   "source": [
    "Enum = glob.glob('E*')\n",
    "Enum = Enum[0]\n",
    "Snums_in_preop = os.listdir(Enum)\n",
    "print(Snums_in_preop)"
   ]
  },
  {
   "cell_type": "code",
   "execution_count": 8,
   "metadata": {
    "collapsed": false,
    "deletable": true,
    "editable": true
   },
   "outputs": [
    {
     "name": "stdout",
     "output_type": "stream",
     "text": [
      "differentiating snums in preop Efolder and SNums in archive\n",
      "set dxit command\n",
      "executed dxit command\n"
     ]
    }
   ],
   "source": [
    "print('differentiating snums in preop Efolder and SNums in archive')\n",
    "########### ########### ########### ########### ########### ########### ########### ########### \n",
    "########### Differentiating Snums in preop E folder and Snums in the archive to see what still \n",
    "########### needs to be archived: \n",
    "########### ########### ########### ########### ########### ########### ########### ########### \n",
    "## in preop: \n",
    "series_nums_in_preopEfolder = os.listdir(Enum)\n",
    "series_nums_in_preopEfolder = [Snum for Snum in series_nums_in_preopEfolder if len(Snum)<3]\n",
    "## in archive: \n",
    "dxit_command = 'dcm_exam_info -'+tnum\n",
    "print('set dxit command')\n",
    "dxit_output = sub.check_output(dxit_command, shell=True)\n",
    "print('executed dxit command')\n",
    "dxit_lines = dxit_output.decode('utf-8').splitlines()\n",
    "indices = [i for i, s in enumerate(dxit_lines) if '-----' in s]\n",
    "indices= indices[0]\n",
    "indices+=1\n",
    "dxit_lines = dxit_lines[indices:]\n",
    "dxit_series_lines = [l.split()[0] for l in dxit_lines]\n",
    "series_nums_in_archive = [l for l in dxit_series_lines if len(l) < 3]"
   ]
  },
  {
   "cell_type": "code",
   "execution_count": 9,
   "metadata": {
    "collapsed": false,
    "deletable": true,
    "editable": true
   },
   "outputs": [
    {
     "data": {
      "text/plain": [
       "[]"
      ]
     },
     "execution_count": 9,
     "metadata": {},
     "output_type": "execute_result"
    }
   ],
   "source": [
    "series_to_archive = [snum for snum in series_nums_in_preopEfolder if snum not in series_nums_in_archive]\n",
    "series_to_archive"
   ]
  },
  {
   "cell_type": "code",
   "execution_count": 10,
   "metadata": {
    "collapsed": false,
    "deletable": true,
    "editable": true
   },
   "outputs": [
    {
     "name": "stdout",
     "output_type": "stream",
     "text": [
      "moving files beginning w/ t that are not in spec files to a \"moved\" folder\n"
     ]
    }
   ],
   "source": [
    "print('moving files beginning w/ t that are not in spec files to a \"moved\" folder')\n",
    "files_beginning_with_t = glob.glob('t*')\n",
    "make_dir = sub.call('mkdir moved', shell = True)\n",
    "files_ending_with_dat = glob.glob(\"*.dat\")\n",
    "files_to_move = [file for file in files_beginning_with_t if file != tnum]\n",
    "files_to_move = [file for file in files_to_move if file not in files_ending_with_dat]\n",
    "for file in files_to_move: \n",
    "    print(\"moving file\"+ file )\n",
    "    mv_command = 'mv '+file+' moved'\n",
    "    sub.call(mv_command, shell=True)"
   ]
  },
  {
   "cell_type": "code",
   "execution_count": null,
   "metadata": {
    "collapsed": false,
    "deletable": true,
    "editable": true
   },
   "outputs": [],
   "source": []
  },
  {
   "cell_type": "code",
   "execution_count": 11,
   "metadata": {
    "collapsed": false,
    "deletable": true,
    "editable": true
   },
   "outputs": [
    {
     "name": "stdout",
     "output_type": "stream",
     "text": [
      "archiving exam if we need to\n"
     ]
    }
   ],
   "source": [
    "print('archiving exam if we need to')\n",
    "if len(series_to_archive)>0: \n",
    "    print('archiving exam')\n",
    "    arc_exam_command = 'archive_exam -e '+Enum+' --raw_prefix t '+'--study '+studytag+' -p cjUCSF\\!1'\n",
    "    arc_exam = sub.call(arc_exam_command, shell = True)\n",
    "    print('done_archiving_exam')\n"
   ]
  },
  {
   "cell_type": "code",
   "execution_count": 12,
   "metadata": {
    "collapsed": false,
    "deletable": true,
    "editable": true
   },
   "outputs": [
    {
     "data": {
      "text/plain": [
       "['db_instance:    brain',\n",
       " 'db_environment: brain_production',\n",
       " 'INSTANCE: brain',\n",
       " 'Valid Krb TGT',\n",
       " '',\n",
       " '',\n",
       " 'series_number  series_description                       SOP_Class           ',\n",
       " '--------------------------------------------------------------------------------------------------------------',\n",
       " '1              Scouts-WEIGHT < 190 lbs                  MRImageStorage      ',\n",
       " '2              ASSET CAL SI                             MRImageStorage      ',\n",
       " '3              ASSET CAL                                MRImageStorage      ',\n",
       " '4              XETA T2 FLAIR                            MRImageStorage      ',\n",
       " '5              PRE GAD AX-T1 3D IRSPGR w/ASSET          MRImageStorage      ',\n",
       " '6              DWI 6 DIR b=1000 w/ASSET                 MRImageStorage      ',\n",
       " '7              3D FSE Asset Ax 20 slabs                 MRImageStorage      ',\n",
       " '8              MRS lactate edit flyback long echo       RawDataStorage      ',\n",
       " '9              ASSET CAL                                MRImageStorage      ',\n",
       " '10             perfusion 1500TR ASSET                   MRImageStorage      ',\n",
       " '11             POSTGAD AX-T1 3D IRSPGR w/ASSET          MRImageStorage      ',\n",
       " '400            Reformatted                              MRImageStorage      ',\n",
       " '401            Reformatted                              MRImageStorage      ',\n",
       " '7211           T1CA_ALIGNED2S11                         EnhancedMRImageStorage',\n",
       " '7212           FLA_ALIGNED2S11                          EnhancedMRImageStorage',\n",
       " '7213           T1VA_ALIGNED2S11                         EnhancedMRImageStorage',\n",
       " '7411           CEL_ROI_ALIGNED2S11                      EnhancedMRImageStorage',\n",
       " '7412           T2ALL_ROI_ALIGNED2S11                    EnhancedMRImageStorage']"
      ]
     },
     "execution_count": 12,
     "metadata": {},
     "output_type": "execute_result"
    }
   ],
   "source": [
    "dxit_output = sub.check_output(dxit_command, shell=True)\n",
    "dxit_lines = dxit_output.decode('utf-8').splitlines()\n",
    "dxit_lines"
   ]
  },
  {
   "cell_type": "code",
   "execution_count": 13,
   "metadata": {
    "collapsed": false,
    "deletable": true,
    "editable": true
   },
   "outputs": [
    {
     "data": {
      "text/plain": [
       "['1', '2', '3', '4', '5', '6', '7', '8', '9', '10', '11']"
      ]
     },
     "execution_count": 13,
     "metadata": {},
     "output_type": "execute_result"
    }
   ],
   "source": [
    "recgli_path_root = '/data/RECglioma/archived/'\n",
    "os.chdir(recgli_path_root)\n",
    "## does the bnum already exist in here? if not, stay and pull archive: \n",
    "bnums_in_archived = glob.glob('b*')\n",
    "series_nums_in_archive"
   ]
  },
  {
   "cell_type": "code",
   "execution_count": 14,
   "metadata": {
    "collapsed": false,
    "deletable": true,
    "editable": true
   },
   "outputs": [
    {
     "name": "stdout",
     "output_type": "stream",
     "text": [
      "pulling exam from archive\n"
     ]
    },
    {
     "data": {
      "text/plain": [
       "['401', '5', '2', '6', '10', '1', '8_raw', '9', '3', '4', '400', '7', '11']"
      ]
     },
     "execution_count": 14,
     "metadata": {},
     "output_type": "execute_result"
    }
   ],
   "source": [
    "print('pulling exam from archive')\n",
    "os.chdir(os.path.abspath(bnum))\n",
    "os.chdir(os.path.abspath(tnum))\n",
    "## find the snums in the folder:\n",
    "snums_previously_pulled = os.listdir(Enum)\n",
    "snums_previously_pulled"
   ]
  },
  {
   "cell_type": "code",
   "execution_count": null,
   "metadata": {
    "collapsed": true,
    "deletable": true,
    "editable": true
   },
   "outputs": [],
   "source": []
  },
  {
   "cell_type": "code",
   "execution_count": 30,
   "metadata": {
    "collapsed": false,
    "deletable": true,
    "editable": true
   },
   "outputs": [
    {
     "data": {
      "text/plain": [
       "['6', '10']"
      ]
     },
     "execution_count": 30,
     "metadata": {},
     "output_type": "execute_result"
    }
   ],
   "source": [
    "snums_to_pull = [series for series in series_nums_in_archive if series not in snums_previously_pulled]\n",
    "os.chdir(recgli_path_root)\n",
    "snums_to_pull"
   ]
  },
  {
   "cell_type": "code",
   "execution_count": null,
   "metadata": {
    "collapsed": true,
    "deletable": true,
    "editable": true
   },
   "outputs": [],
   "source": [
    "for snum in snums_to_pull:\n",
    "    print('pulling exam series number:'+snum)\n",
    "    dcm_qr_command = \"dcm_qr -\"+tnum+\" -s \"+snum+\" -p cjUCSF\\!1\"\n",
    "    sub.call(dcm_qr_command, shell=True)"
   ]
  },
  {
   "cell_type": "code",
   "execution_count": 124,
   "metadata": {
    "collapsed": false,
    "deletable": true,
    "editable": true
   },
   "outputs": [
    {
     "data": {
      "text/plain": [
       "['1',\n",
       " '2',\n",
       " '3',\n",
       " '4',\n",
       " '5',\n",
       " '6',\n",
       " '7',\n",
       " '8',\n",
       " '9',\n",
       " '10',\n",
       " '11',\n",
       " '12',\n",
       " '91',\n",
       " '92',\n",
       " '400',\n",
       " '401',\n",
       " '402',\n",
       " '600',\n",
       " '601',\n",
       " '1000',\n",
       " '1100',\n",
       " '7211',\n",
       " '7212',\n",
       " '7411',\n",
       " '7412']"
      ]
     },
     "execution_count": 124,
     "metadata": {},
     "output_type": "execute_result"
    }
   ],
   "source": [
    "########### ########### ########### ########### ########### ########### ########### ########### ########### \n",
    "########### Differentiating Snums in the archive from the Snums that are present in the recgli/archived \n",
    "########### folder\n",
    "########### ########### ########### ########### ########### ########### ########### ########### ###########"
   ]
  },
  {
   "cell_type": "code",
   "execution_count": 188,
   "metadata": {
    "collapsed": false,
    "deletable": true,
    "editable": true
   },
   "outputs": [],
   "source": [
    "## in archive:  \n",
    "dxit_output = sub.check_output(dxit_command, shell=True)\n",
    "dxit_lines = dxit_output.decode('utf-8').splitlines()[11:]\n",
    "dxit_series_lines = [l.split()[0] for l in dxit_lines]\n",
    "series_nums_in_archive = [l for l in dxit_series_lines if len(l) < 3]\n"
   ]
  },
  {
   "cell_type": "code",
   "execution_count": 189,
   "metadata": {
    "collapsed": false,
    "deletable": true,
    "editable": true
   },
   "outputs": [],
   "source": [
    "## snums in recgli folder: \n",
    "recgli_path_root = '/data/RECglioma/archived/'\n",
    "os.chdir(recgli_path_root)"
   ]
  },
  {
   "cell_type": "code",
   "execution_count": 127,
   "metadata": {
    "collapsed": false,
    "deletable": true,
    "editable": true,
    "scrolled": false
   },
   "outputs": [
    {
     "data": {
      "text/plain": [
       "[]"
      ]
     },
     "execution_count": 127,
     "metadata": {},
     "output_type": "execute_result"
    }
   ],
   "source": [
    "## does the bnum already exist in here? if not, stay and pull archive: \n",
    "bnums_in_archived = glob.glob('b*')"
   ]
  },
  {
   "cell_type": "code",
   "execution_count": 190,
   "metadata": {
    "collapsed": false,
    "deletable": true,
    "editable": true
   },
   "outputs": [
    {
     "data": {
      "text/plain": [
       "True"
      ]
     },
     "execution_count": 190,
     "metadata": {},
     "output_type": "execute_result"
    }
   ],
   "source": [
    "bnum in bnums_in_archived\n"
   ]
  },
  {
   "cell_type": "code",
   "execution_count": 191,
   "metadata": {
    "collapsed": false,
    "deletable": true,
    "editable": true
   },
   "outputs": [
    {
     "name": "stdout",
     "output_type": "stream",
     "text": [
      "pulling exam from archive\n"
     ]
    },
    {
     "data": {
      "text/plain": [
       "'/data/RECglioma/archived/b2871/t6707'"
      ]
     },
     "execution_count": 191,
     "metadata": {},
     "output_type": "execute_result"
    }
   ],
   "source": [
    "print('pulling exam from archive')\n",
    "os.chdir(os.path.abspath(bnum))\n",
    "os.chdir(os.path.abspath(tnum))\n",
    "os.getcwd()\n"
   ]
  },
  {
   "cell_type": "code",
   "execution_count": 193,
   "metadata": {
    "collapsed": false,
    "deletable": true,
    "editable": true
   },
   "outputs": [
    {
     "data": {
      "text/plain": [
       "['5', '10', '2', '8', '6', '1', '9', '3', '11', '4', '91', '7', '12', '92']"
      ]
     },
     "execution_count": 193,
     "metadata": {},
     "output_type": "execute_result"
    }
   ],
   "source": [
    "snums_previously_pulled = os.listdir(Enum)\n",
    "snums_previously_pulled"
   ]
  },
  {
   "cell_type": "code",
   "execution_count": 195,
   "metadata": {
    "collapsed": false,
    "deletable": true,
    "editable": true
   },
   "outputs": [
    {
     "data": {
      "text/plain": [
       "[]"
      ]
     },
     "execution_count": 195,
     "metadata": {},
     "output_type": "execute_result"
    }
   ],
   "source": [
    "snums_to_pull = [series for series in series_nums_in_archive if series not in snums_previously_pulled]\n",
    "snums_to_pull"
   ]
  },
  {
   "cell_type": "code",
   "execution_count": null,
   "metadata": {
    "collapsed": true,
    "deletable": true,
    "editable": true
   },
   "outputs": [],
   "source": []
  },
  {
   "cell_type": "code",
   "execution_count": null,
   "metadata": {
    "collapsed": true,
    "deletable": true,
    "editable": true
   },
   "outputs": [],
   "source": [
    "if bnum in bnums_in_archived:\n",
    "    print('pulling exam from archive')\n",
    "    os.chdir(os.path.abspath(bnum))\n",
    "    os.chdir(os.path.abspath(tnum))\n",
    "    ## find the snums in the folder:\n",
    "    snums_previously_pulled = os.listdir(Enum)\n",
    "    snums_to_pull = [series for series in series_nums_in_archive if series not in snums_previously_pulled]\n",
    "    os.chdir(recgli_path_root)\n",
    "    for snum in snums_to_pull:\n",
    "        print('pulling exam series number:'+snum)\n",
    "        dcm_qr_command = \"dcm_qr -\"+tnum+\" -s \"+snum+\" -p cjUCSF\\!1\"\n",
    "        sub.call(dcm_qr_command, shell=True)\n",
    "else: \n",
    "    dcm_qr_command = 'dcm_qr -'+tnum\n",
    "    sub.call(dcm_qr_command, shell=True)"
   ]
  },
  {
   "cell_type": "code",
   "execution_count": null,
   "metadata": {
    "collapsed": true,
    "deletable": true,
    "editable": true
   },
   "outputs": [],
   "source": []
  }
 ],
 "metadata": {
  "kernelspec": {
   "display_name": "python36",
   "language": "python",
   "name": "python36"
  },
  "language_info": {
   "codemirror_mode": {
    "name": "ipython",
    "version": 3
   },
   "file_extension": ".py",
   "mimetype": "text/x-python",
   "name": "python",
   "nbconvert_exporter": "python",
   "pygments_lexer": "ipython3",
   "version": "3.6.2"
  }
 },
 "nbformat": 4,
 "nbformat_minor": 2
}
