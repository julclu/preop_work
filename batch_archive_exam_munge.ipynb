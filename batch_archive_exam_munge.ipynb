{
 "cells": [
  {
   "cell_type": "code",
   "execution_count": 1,
   "metadata": {
    "collapsed": true,
    "deletable": true,
    "editable": true
   },
   "outputs": [],
   "source": [
    "import os\n",
    "import glob\n",
    "import argparse \n",
    "import subprocess as sub\n",
    "import shlex \n",
    "from subprocess import PIPE, Popen\n",
    "import pandas as pd"
   ]
  },
  {
   "cell_type": "code",
   "execution_count": 2,
   "metadata": {
    "collapsed": true,
    "deletable": true,
    "editable": true
   },
   "outputs": [],
   "source": [
    "def arg_parsing(): \n",
    "    print('creating argument parser')\n",
    "    ########### Create an argument parser \n",
    "    parser = argparse.ArgumentParser(description='In this script we will import a single bnum/tnum, run the archive_exam perl script, and then dcm_qr to desired location.')\n",
    "    parser.add_argument('bnum_tnum_csv', type=str, nargs=1, help='List of bnums in one column, tnums in the other, the name please.')\n",
    "    parser.add_argument('--NewLocation', metavar = 'N', default = '/data/RECglioma/archived', type = str, nargs = 1, help = 'New location for your de-identified exam.')\n",
    "    parser.add_argument('--StudyName', metavar = 'S', default = 'po1_preop_recur', type = str, nargs = 1, help = \"Study Identifier\")\n",
    "\n",
    "    # args = parser.parse_args('b2292 t6929'.split())\n",
    "    args = parser.parse_args()\n",
    "    print('parsing the arg')\n",
    "    ########### Create strings of the arguments \n",
    "    bnum_tnum_csv = ''.join(args.bnum_tnum_csv)\n",
    "    newloc = ''.join(args.NewLocation)\n",
    "    studytag = ''.join(args.StudyName)"
   ]
  },
  {
   "cell_type": "code",
   "execution_count": 3,
   "metadata": {
    "collapsed": true,
    "deletable": true,
    "editable": true
   },
   "outputs": [],
   "source": [
    "def archive_exam_fn(bnum, tnum):\n",
    "    print('changing path')\n",
    "    ########### Function for creating pathname and changing to directory name: \n",
    "    preop_path_root = \"/data/bioe4/po1_preop_recur/\"\n",
    "    def change_path(pathname_root):\n",
    "        pathname = pathname_root+bnum+'/'+tnum\n",
    "        os.chdir(pathname)\n",
    "     \n",
    "    change_path(preop_path_root)\n",
    "\n",
    "    ########### Use glob to capture the Enum \n",
    "    Enum = glob.glob('E*')\n",
    "    Enum = Enum[0]\n",
    "\n",
    "    print('differentiating snums in preop Efolder and SNums in archive')\n",
    "    ########### ########### ########### ########### ########### ########### ########### ########### \n",
    "    ########### Differentiating Snums in preop E folder and Snums in the archive to see what still \n",
    "    ########### needs to be archived: \n",
    "    ########### ########### ########### ########### ########### ########### ########### ########### \n",
    "    ## in preop: \n",
    "    series_nums_in_preopEfolder = os.listdir(Enum)\n",
    "    series_nums_in_preopEfolder = [Snum for Snum in series_nums_in_preopEfolder if len(Snum)<3]\n",
    "    ## in archive: \n",
    "    dxit_command = 'dcm_exam_info -'+tnum\n",
    "    print('set dxit command')\n",
    "    dxit_output = sub.check_output(dxit_command, shell=True)\n",
    "    print('executed dxit command')\n",
    "    dxit_lines = dxit_output.decode('utf-8').splitlines()\n",
    "    indices = [i for i, s in enumerate(dxit_lines) if '-----' in s]\n",
    "    indices= indices[0]\n",
    "    indices+=1\n",
    "    dxit_lines = dxit_lines[indices:]\n",
    "    dxit_series_lines = [l.split()[0] for l in dxit_lines]\n",
    "    series_nums_in_archive = [l for l in dxit_series_lines if len(l) < 3]\n",
    "    ## difference between series numbers \n",
    "    series_to_archive = [snum for snum in series_nums_in_preopEfolder if snum not in series_nums_in_archive]\n",
    "    ## if series_to_archive is > 1, then we must try to archive the exam; but not if there are other \n",
    "    ## files that begin with t in the folder. Let's find all the files that begin with t. \n",
    "    ## if so, then we must move the files that begin with t to another folder called \"moved\"\n",
    "    ## -----------------------------------------------------------------------------------------------\n",
    "    ## moving files beginning with t that re not the spec files to a \"moved\" folder:\n",
    "    print('moving files beginning w/ t that are not in spec files to a \"moved\" folder')\n",
    "    files_beginning_with_t = glob.glob('t*')\n",
    "    make_dir = sub.call('mkdir moved', shell = True)\n",
    "    files_ending_with_dat = glob.glob(\"*.dat\")\n",
    "    files_to_move = [file for file in files_beginning_with_t if file != tnum]\n",
    "    files_to_move = [file for file in files_to_move if file not in files_ending_with_dat]\n",
    "    for file in files_to_move: \n",
    "        print(\"moving file\"+ file )\n",
    "        mv_command = 'mv '+file+' moved'\n",
    "        sub.call(mv_command, shell=True)\n",
    "    ## archive the exam (if you need to)\n",
    "    print('archiving exam if we need to')\n",
    "    if len(series_to_archive)>0: \n",
    "        print('archiving exam')\n",
    "        arc_exam_command = 'archive_exam -e '+Enum+' --raw_prefix t '+'--study '+studytag+' -p cjUCSF\\!1'\n",
    "        arc_exam = sub.call(arc_exam_command, shell = True)\n",
    "        print('done_archiving_exam')"
   ]
  },
  {
   "cell_type": "code",
   "execution_count": 4,
   "metadata": {
    "collapsed": true,
    "deletable": true,
    "editable": true
   },
   "outputs": [],
   "source": [
    "def dcm_qr_fn(bnum, tnum):\n",
    "    ## in archive:  \n",
    "    dxit_command = 'dcm_exam_info -'+tnum \n",
    "    dxit_output = sub.check_output(dxit_command, shell=True)\n",
    "    dxit_lines = dxit_output.decode('utf-8').splitlines()[11:]\n",
    "    dxit_series_lines = [l.split()[0] for l in dxit_lines]\n",
    "    series_nums_in_archive = [l for l in dxit_series_lines if len(l) < 3]\n",
    "    ## snums in recgli folder: \n",
    "    recgli_path_root = '/data/RECglioma/archived/'\n",
    "    os.chdir(recgli_path_root)\n",
    "    ## does the bnum already exist in here? if not, stay and pull archive: \n",
    "    bnums_in_archived = glob.glob('b*')\n",
    "    if bnum in bnums_in_archived: \n",
    "        print('pulling exam from archive')\n",
    "        os.chdir(os.path.abspath(bnum))\n",
    "        os.chdir(os.path.abspath(tnum))\n",
    "        ## find the snums in the folder:\n",
    "        change_path(preop_path_root)\n",
    "        ## Use glob to capture the Enum \n",
    "        Enum = glob.glob('E*')\n",
    "        Enum = Enum[0]\n",
    "        \n",
    "        snums_previously_pulled = os.listdir(Enum)\n",
    "        snums_to_pull = [series for series in series_nums_in_archive if series not in snums_previously_pulled]\n",
    "        for snum in snums_to_pull:\n",
    "            print('pulling exam series number:'+snum)\n",
    "            dcm_qr_command = \"dcm_qr -\"+tnum+\" -s \"+snum+\" -p cjUCSF\\!1\"\n",
    "            sub.call(dcm_qr_command, shell=True)\n",
    "    else: \n",
    "        dcm_qr_command = 'dcm_qr -'+tnum+' -p cjUCSF\\!1'\n",
    "        sub.call(dcm_qr_command, shell=True)"
   ]
  },
  {
   "cell_type": "code",
   "execution_count": 5,
   "metadata": {
    "collapsed": true,
    "deletable": true,
    "editable": true
   },
   "outputs": [],
   "source": [
    "def getting_bnum_tnum_list(bnum_tnum_csv): \n",
    "    ########### Get bnum_tnum list: \n",
    "    bnum_tnum_csv_root = \"/home/sf673542/preop_convert_work/\"\n",
    "    bnum_tnum_df = pd.read_csv(bnum_tnum_csv_root+bnum_tnum_csv, header = None)\n"
   ]
  },
  {
   "cell_type": "code",
   "execution_count": 29,
   "metadata": {
    "collapsed": true
   },
   "outputs": [],
   "source": [
    "bnum_tnum_csv = \"po1_preop_recur_bnum_tnum_list2.10.csv\""
   ]
  },
  {
   "cell_type": "code",
   "execution_count": 30,
   "metadata": {
    "collapsed": false,
    "deletable": true,
    "editable": true
   },
   "outputs": [],
   "source": [
    "bnum_tnum_csv_root = \"/home/sf673542/preop_convert_work/\"\n",
    "bnum_tnum_df = pd.read_csv(bnum_tnum_csv_root+bnum_tnum_csv, header = None)\n",
    "bnum_tnum_df.columns = ['bnum', 'tnum', 'DUMMY']\n"
   ]
  },
  {
   "cell_type": "code",
   "execution_count": 31,
   "metadata": {
    "collapsed": false,
    "deletable": true,
    "editable": true
   },
   "outputs": [],
   "source": [
    "def change_path(pathname_root):\n",
    "    pathname = pathname_root+bnum+'/'+tnum\n",
    "    os.chdir(pathname)"
   ]
  },
  {
   "cell_type": "code",
   "execution_count": 32,
   "metadata": {
    "collapsed": false,
    "deletable": true,
    "editable": true
   },
   "outputs": [],
   "source": [
    "parser = argparse.ArgumentParser(description='In this script we will import a single bnum/tnum, run the archive_exam perl script, and then dcm_qr to desired location.')\n",
    "parser.add_argument('bnum_tnum_csv', type=str, nargs=1, help='List of bnums in one column, tnums in the other, the name please.')\n",
    "parser.add_argument('--NewLocation', metavar = 'N', default = '/data/RECglioma/archived', type = str, nargs = 1, help = 'New location for your de-identified exam.')\n",
    "parser.add_argument('--StudyName', metavar = 'S', default = 'po1_preop_recur', type = str, nargs = 1, help = \"Study Identifier\")\n",
    "\n",
    "args = parser.parse_args('po1_preop_recur_bnum_tnum_list1.10.csv'.split())"
   ]
  },
  {
   "cell_type": "code",
   "execution_count": 12,
   "metadata": {
    "collapsed": true,
    "deletable": true,
    "editable": true
   },
   "outputs": [],
   "source": [
    "bnum_tnum_csv = ''.join(args.bnum_tnum_csv)\n",
    "newloc = ''.join(args.NewLocation)\n",
    "studytag = ''.join(args.StudyName)"
   ]
  },
  {
   "cell_type": "code",
   "execution_count": 24,
   "metadata": {
    "collapsed": true,
    "deletable": true,
    "editable": true
   },
   "outputs": [],
   "source": [
    "bnum_tnum_csv_root = \"/home/sf673542/preop_convert_work/\"\n",
    "bnum_tnum_df = pd.read_csv(bnum_tnum_csv_root+bnum_tnum_csv, header = None)\n",
    "bnum_tnum_df.columns = ['bnum', 'tnum', 'DUMMY']\n"
   ]
  },
  {
   "cell_type": "code",
   "execution_count": 33,
   "metadata": {
    "collapsed": false,
    "deletable": true,
    "editable": true
   },
   "outputs": [
    {
     "name": "stdout",
     "output_type": "stream",
     "text": [
      "b2222 t6094\n",
      "b2118 t6260\n",
      "b2192 t8070\n",
      "b2563 t5983\n",
      "b0963 t6069\n",
      "b3012 t7111\n",
      "b3207 t7658\n",
      "b2863 t6682\n",
      "b2113 t4966\n",
      "b2384 t5603\n"
     ]
    }
   ],
   "source": [
    "for index, row in bnum_tnum_df.iterrows():\n",
    "    bnum = row['bnum']\n",
    "    tnum = row['tnum']\n",
    "    print(bnum, tnum)"
   ]
  },
  {
   "cell_type": "code",
   "execution_count": 34,
   "metadata": {
    "collapsed": false,
    "deletable": true,
    "editable": true
   },
   "outputs": [
    {
     "name": "stdout",
     "output_type": "stream",
     "text": [
      "changing path\n",
      "differentiating snums in preop Efolder and SNums in archive\n",
      "set dxit command\n",
      "executed dxit command\n",
      "moving files beginning w/ t that are not in spec files to a \"moved\" folder\n",
      "archiving exam if we need to\n",
      "pulling exam from archive\n",
      "changing path\n",
      "differentiating snums in preop Efolder and SNums in archive\n",
      "set dxit command\n",
      "executed dxit command\n",
      "moving files beginning w/ t that are not in spec files to a \"moved\" folder\n",
      "archiving exam if we need to\n",
      "pulling exam from archive\n",
      "pulling exam series number:8\n",
      "changing path\n",
      "differentiating snums in preop Efolder and SNums in archive\n",
      "set dxit command\n",
      "executed dxit command\n",
      "moving files beginning w/ t that are not in spec files to a \"moved\" folder\n",
      "archiving exam if we need to\n",
      "changing path\n",
      "differentiating snums in preop Efolder and SNums in archive\n",
      "set dxit command\n",
      "executed dxit command\n",
      "moving files beginning w/ t that are not in spec files to a \"moved\" folder\n",
      "archiving exam if we need to\n",
      "pulling exam from archive\n",
      "pulling exam series number:10\n",
      "changing path\n",
      "differentiating snums in preop Efolder and SNums in archive\n",
      "set dxit command\n",
      "executed dxit command\n",
      "moving files beginning w/ t that are not in spec files to a \"moved\" folder\n",
      "archiving exam if we need to\n",
      "archiving exam\n",
      "done_archiving_exam\n",
      "changing path\n",
      "differentiating snums in preop Efolder and SNums in archive\n",
      "set dxit command\n",
      "executed dxit command\n",
      "moving files beginning w/ t that are not in spec files to a \"moved\" folder\n",
      "moving filet7111_cel.idf\n",
      "moving filet7111_cel.byt\n",
      "moving filet7111_t2all.idf\n",
      "moving filet7111_t2all.byt\n",
      "archiving exam if we need to\n",
      "archiving exam\n",
      "done_archiving_exam\n",
      "changing path\n",
      "differentiating snums in preop Efolder and SNums in archive\n",
      "set dxit command\n",
      "executed dxit command\n",
      "moving files beginning w/ t that are not in spec files to a \"moved\" folder\n",
      "archiving exam if we need to\n",
      "pulling exam from archive\n",
      "pulling exam series number:6\n",
      "pulling exam series number:6\n",
      "pulling exam series number:11\n",
      "changing path\n",
      "differentiating snums in preop Efolder and SNums in archive\n",
      "set dxit command\n",
      "executed dxit command\n",
      "moving files beginning w/ t that are not in spec files to a \"moved\" folder\n",
      "archiving exam if we need to\n",
      "archiving exam\n",
      "done_archiving_exam\n",
      "changing path\n",
      "differentiating snums in preop Efolder and SNums in archive\n",
      "set dxit command\n",
      "executed dxit command\n",
      "moving files beginning w/ t that are not in spec files to a \"moved\" folder\n",
      "moving filetest_extractbrain\n",
      "archiving exam if we need to\n",
      "pulling exam from archive\n",
      "pulling exam series number:11\n",
      "changing path\n",
      "differentiating snums in preop Efolder and SNums in archive\n",
      "set dxit command\n",
      "executed dxit command\n",
      "moving files beginning w/ t that are not in spec files to a \"moved\" folder\n",
      "moving filet\n",
      "archiving exam if we need to\n",
      "archiving exam\n",
      "done_archiving_exam\n"
     ]
    }
   ],
   "source": [
    "for index, row in bnum_tnum_df.iterrows():\n",
    "    bnum = row['bnum']\n",
    "    tnum = row['tnum']\n",
    "    archive_exam_fn(bnum, tnum)\n",
    "    dcm_qr_fn(bnum, tnum)"
   ]
  },
  {
   "cell_type": "code",
   "execution_count": 19,
   "metadata": {
    "collapsed": true,
    "deletable": true,
    "editable": true
   },
   "outputs": [],
   "source": [
    "preop_path_root = \"/data/bioe4/po1_preop_recur/\"\n",
    "recgli_path_root = '/data/RECglioma/archived/'"
   ]
  },
  {
   "cell_type": "code",
   "execution_count": 18,
   "metadata": {
    "collapsed": false,
    "deletable": true,
    "editable": true
   },
   "outputs": [
    {
     "name": "stdout",
     "output_type": "stream",
     "text": [
      "Password for sf673542@RADIOLOGY.UCSF.EDU: \n",
      "kinit: Password incorrect while getting initial credentials\n"
     ]
    }
   ],
   "source": []
  },
  {
   "cell_type": "code",
   "execution_count": null,
   "metadata": {
    "collapsed": true
   },
   "outputs": [],
   "source": []
  }
 ],
 "metadata": {
  "kernelspec": {
   "display_name": "python36",
   "language": "python",
   "name": "python36"
  },
  "language_info": {
   "codemirror_mode": {
    "name": "ipython",
    "version": 3
   },
   "file_extension": ".py",
   "mimetype": "text/x-python",
   "name": "python",
   "nbconvert_exporter": "python",
   "pygments_lexer": "ipython3",
   "version": "3.6.2"
  }
 },
 "nbformat": 4,
 "nbformat_minor": 2
}
