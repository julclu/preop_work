{
 "cells": [
  {
   "cell_type": "code",
   "execution_count": 1,
   "metadata": {
    "collapsed": true,
    "deletable": true,
    "editable": true
   },
   "outputs": [],
   "source": [
    "import os\n",
    "import glob\n",
    "import argparse \n",
    "import subprocess as sub\n",
    "import shlex \n",
    "from subprocess import PIPE, Popen\n",
    "import pandas as pd"
   ]
  },
  {
   "cell_type": "code",
   "execution_count": 8,
   "metadata": {
    "collapsed": true,
    "deletable": true,
    "editable": true
   },
   "outputs": [],
   "source": [
    "bnum_tnum_csv = \"po1_preop_recur_bnum_tnum_list1.10.csv\"\n",
    "preop_path_root = \"/data/bioe4/po1_preop_recur/\"\n",
    "recgli_path_root = '/data/RECglioma/archived/'"
   ]
  },
  {
   "cell_type": "code",
   "execution_count": 3,
   "metadata": {
    "collapsed": true,
    "deletable": true,
    "editable": true
   },
   "outputs": [],
   "source": [
    "bnum_tnum_csv_root = \"/home/sf673542/preop_convert_work/\"\n",
    "bnum_tnum_df = pd.read_csv(bnum_tnum_csv_root+bnum_tnum_csv, header = None)\n",
    "bnum_tnum_df.columns = ['bnum', 'tnum', 'DUMMY']"
   ]
  },
  {
   "cell_type": "code",
   "execution_count": 4,
   "metadata": {
    "collapsed": true,
    "deletable": true,
    "editable": true
   },
   "outputs": [],
   "source": [
    "parser = argparse.ArgumentParser(description='In this script we will import a single bnum/tnum, run the archive_exam perl script, and then dcm_qr to desired location.')\n",
    "parser.add_argument('bnum_tnum_csv', type=str, nargs=1, help='List of bnums in one column, tnums in the other, the name please.')\n",
    "parser.add_argument('--NewLocation', metavar = 'N', default = '/data/RECglioma/archived', type = str, nargs = 1, help = 'New location for your de-identified exam.')\n",
    "parser.add_argument('--StudyName', metavar = 'S', default = 'po1_preop_recur', type = str, nargs = 1, help = \"Study Identifier\")\n",
    "\n",
    "args = parser.parse_args('po1_preop_recur_bnum_tnum_list1.10.csv'.split())"
   ]
  },
  {
   "cell_type": "code",
   "execution_count": 5,
   "metadata": {
    "collapsed": true,
    "deletable": true,
    "editable": true
   },
   "outputs": [],
   "source": [
    "bnum_tnum_csv = ''.join(args.bnum_tnum_csv)\n",
    "newloc = ''.join(args.NewLocation)\n",
    "studytag = ''.join(args.StudyName)"
   ]
  },
  {
   "cell_type": "code",
   "execution_count": 6,
   "metadata": {
    "collapsed": false,
    "deletable": true,
    "editable": true
   },
   "outputs": [],
   "source": [
    "def change_path(pathname_root):\n",
    "    pathname = pathname_root+bnum+'/'+tnum\n",
    "    os.chdir(pathname)"
   ]
  },
  {
   "cell_type": "code",
   "execution_count": 7,
   "metadata": {
    "collapsed": false,
    "deletable": true,
    "editable": true
   },
   "outputs": [
    {
     "name": "stdout",
     "output_type": "stream",
     "text": [
      "b2723 t6369\n",
      "b2312 t5317\n",
      "b2901 t8089\n",
      "b2474 t7408\n",
      "b3169 t7540\n",
      "b2379 t5950\n",
      "b2534 t6367\n",
      "b2873 t6709\n",
      "b3118 t7394\n",
      "b2793 t7584\n"
     ]
    }
   ],
   "source": [
    "for index, row in bnum_tnum_df.iterrows():\n",
    "    bnum = row['bnum']\n",
    "    tnum = row['tnum']\n",
    "    print(bnum, tnum)"
   ]
  },
  {
   "cell_type": "code",
   "execution_count": 101,
   "metadata": {
    "collapsed": false,
    "deletable": true,
    "editable": true
   },
   "outputs": [],
   "source": [
    "bnum = 'b3043'\n",
    "tnum = 't7227'"
   ]
  },
  {
   "cell_type": "code",
   "execution_count": 79,
   "metadata": {
    "collapsed": true,
    "deletable": true,
    "editable": true
   },
   "outputs": [],
   "source": [
    "change_path(preop_path_root)"
   ]
  },
  {
   "cell_type": "code",
   "execution_count": 80,
   "metadata": {
    "collapsed": true
   },
   "outputs": [],
   "source": [
    "Enum = glob.glob('E*')\n",
    "Enum = Enum[0]"
   ]
  },
  {
   "cell_type": "code",
   "execution_count": 81,
   "metadata": {
    "collapsed": false,
    "deletable": true,
    "editable": true
   },
   "outputs": [
    {
     "name": "stdout",
     "output_type": "stream",
     "text": [
      "moving files beginning w/ t that are not in spec files to a \"moved\" folder\n"
     ]
    }
   ],
   "source": [
    "print('moving files beginning w/ t that are not in spec files to a \"moved\" folder')\n",
    "files_beginning_with_t = glob.glob('t*')\n",
    "make_dir = sub.call('mkdir moved', shell = True)\n",
    "files_ending_with_dat = glob.glob(\"*.dat\")\n",
    "files_to_move = [file for file in files_beginning_with_t if file != tnum]\n",
    "files_to_move = [file for file in files_to_move if file not in files_ending_with_dat]\n",
    "for file in files_to_move: \n",
    "    print(\"moving file\"+ file )\n",
    "    mv_command = 'mv '+file+' moved'\n",
    "    sub.call(mv_command, shell=True)\n"
   ]
  },
  {
   "cell_type": "code",
   "execution_count": 82,
   "metadata": {
    "collapsed": false,
    "deletable": true,
    "editable": true
   },
   "outputs": [
    {
     "data": {
      "text/plain": [
       "['b2268',\n",
       " 'b2312',\n",
       " 'b2262',\n",
       " 'b3234',\n",
       " 'b2871',\n",
       " 'b2901',\n",
       " 'b2710',\n",
       " 'b3091',\n",
       " 'b2563',\n",
       " 'b2939',\n",
       " 'b2419',\n",
       " 'b2834',\n",
       " 'b1257',\n",
       " 'b2445',\n",
       " 'b1487',\n",
       " 'b2709',\n",
       " 'b2679',\n",
       " 'b2850',\n",
       " 'b2570',\n",
       " 'b1556',\n",
       " 'b2927',\n",
       " 'b2593',\n",
       " 'b3182',\n",
       " 'b1514',\n",
       " 'b994',\n",
       " 'b2395',\n",
       " 'b2292',\n",
       " 'b2717',\n",
       " 'b2350',\n",
       " 'b2667',\n",
       " 'b2451',\n",
       " 'b963',\n",
       " 'b2218',\n",
       " 'b2552',\n",
       " 'b2872',\n",
       " 'b2382',\n",
       " 'b1693',\n",
       " 'b1340',\n",
       " 'b2388',\n",
       " 'b1866',\n",
       " 'b2483',\n",
       " 'b2517',\n",
       " 'b3171',\n",
       " 'b2764',\n",
       " 'b2988',\n",
       " 'b2272',\n",
       " 'b2474',\n",
       " 'b2777',\n",
       " 'b3012',\n",
       " 'b3186',\n",
       " 'b2330',\n",
       " 'b2793',\n",
       " 'b2693',\n",
       " 'b3118',\n",
       " 'b3112',\n",
       " 'b2202',\n",
       " 'b2378',\n",
       " 'b2192',\n",
       " 'b2071',\n",
       " 'b2436',\n",
       " 'b2769',\n",
       " 'b2359',\n",
       " 'b2229',\n",
       " 'b2417',\n",
       " 'b2847',\n",
       " 'b3043',\n",
       " 'b2808',\n",
       " 'b2452',\n",
       " 'b2118',\n",
       " 'b2415',\n",
       " 'b1814',\n",
       " 'b2994',\n",
       " 'b2264',\n",
       " 'b3131',\n",
       " 'b2926',\n",
       " 'b2592',\n",
       " 'b2406',\n",
       " 'b3084',\n",
       " 'b1418',\n",
       " 'b1788',\n",
       " 'b2647',\n",
       " 'b3155',\n",
       " 'b1256',\n",
       " 'b2863',\n",
       " 'b2534',\n",
       " 'b2003',\n",
       " 'b2775',\n",
       " 'b2678',\n",
       " 'b2791',\n",
       " 'b2571',\n",
       " 'b2476',\n",
       " 'b2723',\n",
       " 'b2313',\n",
       " 'b2089',\n",
       " 'b3009',\n",
       " 'b3197',\n",
       " 'b697',\n",
       " 'b2586',\n",
       " 'b2842',\n",
       " 'b3207',\n",
       " 'b2358',\n",
       " 'b2222',\n",
       " 'b2156',\n",
       " 'b2360',\n",
       " 'b2384',\n",
       " 'b2113',\n",
       " 'b2771',\n",
       " 'b2145',\n",
       " 'b2274',\n",
       " 'b2379',\n",
       " 'b2960',\n",
       " 'b2437',\n",
       " 'b2273',\n",
       " 'b2578',\n",
       " 'b2671',\n",
       " 'b3169',\n",
       " 'b2553',\n",
       " 'b2873',\n",
       " 'b2903',\n",
       " 'b2757',\n",
       " 'b2561',\n",
       " 'b2488',\n",
       " 'b2466',\n",
       " 'b2712',\n",
       " 'b2781']"
      ]
     },
     "execution_count": 82,
     "metadata": {},
     "output_type": "execute_result"
    }
   ],
   "source": [
    "os.chdir(recgli_path_root)\n",
    "bnums_in_archived = glob.glob('b*')\n",
    "bnums_in_archived"
   ]
  },
  {
   "cell_type": "code",
   "execution_count": 83,
   "metadata": {
    "collapsed": false,
    "deletable": true,
    "editable": true
   },
   "outputs": [
    {
     "data": {
      "text/plain": [
       "True"
      ]
     },
     "execution_count": 83,
     "metadata": {},
     "output_type": "execute_result"
    }
   ],
   "source": [
    "path = recgli_path_root+\"/\"+bnum+\"/\"+tnum+\"/\"+Enum\n",
    "os.path.exists(path)"
   ]
  },
  {
   "cell_type": "code",
   "execution_count": 103,
   "metadata": {
    "collapsed": false
   },
   "outputs": [
    {
     "name": "stdout",
     "output_type": "stream",
     "text": [
      "differentiating snums in preop Efolder and SNums in archive\n",
      "moving files beginning w/ t that are not in spec files to a \"moved\" folder\n",
      "enum doesn't exist\n",
      "/data/RECglioma/archived\n",
      "done_archiving_exam\n"
     ]
    }
   ],
   "source": [
    "preop_path_root = \"/data/bioe4/po1_preop_recur/\"\n",
    "recgli_path_root = '/data/RECglioma/archived/'\n",
    "\n",
    "def change_path(pathname_root):\n",
    "    pathname = pathname_root+bnum+'/'+tnum\n",
    "    os.chdir(pathname)\n",
    "    \n",
    "change_path(preop_path_root)\n",
    "\n",
    "########### Use glob to capture the Enum \n",
    "Enum = glob.glob('E*')\n",
    "Enum = Enum[0]\n",
    "\n",
    "print('differentiating snums in preop Efolder and SNums in archive')\n",
    "########### ########### ########### ########### ########### ########### ########### ########### \n",
    "########### Differentiating Snums in preop E folder and Snums in the archive to see what still \n",
    "########### needs to be archived: \n",
    "########### ########### ########### ########### ########### ########### ########### ########### \n",
    "## in preop: \n",
    "## difference between series numbers \n",
    "## if series_to_archive is > 1, then we must try to archive the exam; but not if there are other \n",
    "## files that begin with t in the folder. Let's find all the files that begin with t. \n",
    "## if so, then we must move the files that begin with t to another folder called \"moved\"\n",
    "## -----------------------------------------------------------------------------------------------\n",
    "## moving files beginning with t that re not the spec files to a \"moved\" folder:\n",
    "print('moving files beginning w/ t that are not in spec files to a \"moved\" folder')\n",
    "files_beginning_with_t = glob.glob('t*')\n",
    "make_dir = sub.call('mkdir moved', shell = True)\n",
    "files_ending_with_dat = glob.glob(\"*.dat\")\n",
    "files_to_move = [file for file in files_beginning_with_t if file != tnum]\n",
    "files_to_move = [file for file in files_to_move if file not in files_ending_with_dat]\n",
    "recgli_enum_path = recgli_path_root+\"/\"+bnum+\"/\"+tnum+\"/\"+Enum\n",
    "for file in files_to_move: \n",
    "    print(\"moving file\"+ file )\n",
    "    mv_command = 'mv '+file+' moved'\n",
    "    sub.call(mv_command, shell=True)\n",
    "## archive the exam (if you need to); two conditions it may not be archived correctly: \n",
    "os.chdir(recgli_path_root)\n",
    "bnums_in_archived = glob.glob('b*') \n",
    "if bnum not in bnums_in_archived: \n",
    "    print('bnum not in archived')\n",
    "    arc_exam_command = 'archive_exam -e '+Enum+' --raw_prefix t '+'--study '+studytag+' -p cjUCSF\\!1'\n",
    "    arc_exam = sub.call(arc_exam_command, shell = True)\n",
    "    print('done_archiving_exam')\n",
    "elif not os.path.exists(recgli_enum_path): \n",
    "    print(\"enum doesn't exist\")\n",
    "    print(os.getcwd())\n",
    "    os.chdir(preop_path_root)\n",
    "    os.chdir(bnum)\n",
    "    os.chdir(tnum)\n",
    "    arc_exam_command = 'archive_exam -e '+Enum+' --raw_prefix t '+'--study '+studytag+' -p cjUCSF\\!1'\n",
    "    arc_exam = sub.call(arc_exam_command, shell = True)\n",
    "    print('done_archiving_exam')\n",
    "else: \n",
    "    print('no archiving needed')"
   ]
  },
  {
   "cell_type": "code",
   "execution_count": 84,
   "metadata": {
    "collapsed": false,
    "deletable": true,
    "editable": true
   },
   "outputs": [
    {
     "data": {
      "text/plain": [
       "'/data/RECglioma/archived'"
      ]
     },
     "execution_count": 84,
     "metadata": {},
     "output_type": "execute_result"
    }
   ],
   "source": [
    "os.getcwd()"
   ]
  },
  {
   "cell_type": "code",
   "execution_count": 97,
   "metadata": {
    "collapsed": false,
    "deletable": true,
    "editable": true
   },
   "outputs": [],
   "source": [
    "dxit_lines = dxit_output.decode('utf-8').splitlines()\n",
    "index_to_split = [i for i, s in enumerate(dxit_lines) if '-----' in s]\n",
    "index_to_split = index_to_split[0]\n",
    "index_to_split+=1\n",
    "dxit_lines = dxit_lines[index_to_split:]\n",
    "dxit_series_lines = [l.split()[0] for l in dxit_lines]\n",
    "series_nums_in_archive = [l for l in dxit_series_lines if len(l) < 3]"
   ]
  },
  {
   "cell_type": "code",
   "execution_count": 98,
   "metadata": {
    "collapsed": false
   },
   "outputs": [
    {
     "data": {
      "text/plain": [
       "['1', '2', '3', '4', '5', '6', '7', '8', '9', '10', '11']"
      ]
     },
     "execution_count": 98,
     "metadata": {},
     "output_type": "execute_result"
    }
   ],
   "source": [
    "series_nums_in_archive"
   ]
  },
  {
   "cell_type": "code",
   "execution_count": 86,
   "metadata": {
    "collapsed": true,
    "deletable": true,
    "editable": true
   },
   "outputs": [],
   "source": [
    "os.chdir(recgli_path_root)"
   ]
  },
  {
   "cell_type": "code",
   "execution_count": 87,
   "metadata": {
    "collapsed": false
   },
   "outputs": [
    {
     "name": "stdout",
     "output_type": "stream",
     "text": [
      "pulling exam from archive\n"
     ]
    }
   ],
   "source": [
    "if bnum in bnums_in_archived: \n",
    "    print('pulling exam from archive')\n",
    "    os.chdir(os.path.abspath(bnum))\n",
    "    os.chdir(os.path.abspath(tnum))"
   ]
  },
  {
   "cell_type": "code",
   "execution_count": 88,
   "metadata": {
    "collapsed": false
   },
   "outputs": [
    {
     "data": {
      "text/plain": [
       "['301', '6', '302', '5', '8', '300', '7', '4']"
      ]
     },
     "execution_count": 88,
     "metadata": {},
     "output_type": "execute_result"
    }
   ],
   "source": [
    "snums_previously_pulled = os.listdir(Enum)\n",
    "snums_previously_pulled"
   ]
  },
  {
   "cell_type": "code",
   "execution_count": 89,
   "metadata": {
    "collapsed": true
   },
   "outputs": [],
   "source": [
    "snums_to_pull = [series for series in series_nums_in_archive if series not in snums_previously_pulled]"
   ]
  },
  {
   "cell_type": "code",
   "execution_count": 99,
   "metadata": {
    "collapsed": false
   },
   "outputs": [
    {
     "name": "stdout",
     "output_type": "stream",
     "text": [
      "pulling exam from archive\n",
      "pulling exam series number:1\n"
     ]
    },
    {
     "ename": "KeyboardInterrupt",
     "evalue": "",
     "output_type": "error",
     "traceback": [
      "\u001b[0;31m---------------------------------------------------------------------------\u001b[0m",
      "\u001b[0;31mKeyboardInterrupt\u001b[0m                         Traceback (most recent call last)",
      "\u001b[0;32m<ipython-input-99-31297eeb114b>\u001b[0m in \u001b[0;36m<module>\u001b[0;34m()\u001b[0m\n\u001b[1;32m     18\u001b[0m             \u001b[0mprint\u001b[0m\u001b[0;34m(\u001b[0m\u001b[0;34m'pulling exam series number:'\u001b[0m\u001b[0;34m+\u001b[0m\u001b[0msnum\u001b[0m\u001b[0;34m)\u001b[0m\u001b[0;34m\u001b[0m\u001b[0m\n\u001b[1;32m     19\u001b[0m             \u001b[0mdcm_qr_command\u001b[0m \u001b[0;34m=\u001b[0m \u001b[0;34m\"dcm_qr -\"\u001b[0m\u001b[0;34m+\u001b[0m\u001b[0mtnum\u001b[0m\u001b[0;34m+\u001b[0m\u001b[0;34m\" -s \"\u001b[0m\u001b[0;34m+\u001b[0m\u001b[0msnum\u001b[0m\u001b[0;34m+\u001b[0m\u001b[0;34m\" -p cjUCSF\\!1\"\u001b[0m\u001b[0;34m\u001b[0m\u001b[0m\n\u001b[0;32m---> 20\u001b[0;31m             \u001b[0msub\u001b[0m\u001b[0;34m.\u001b[0m\u001b[0mcall\u001b[0m\u001b[0;34m(\u001b[0m\u001b[0mdcm_qr_command\u001b[0m\u001b[0;34m,\u001b[0m \u001b[0mshell\u001b[0m\u001b[0;34m=\u001b[0m\u001b[0;32mTrue\u001b[0m\u001b[0;34m)\u001b[0m\u001b[0;34m\u001b[0m\u001b[0m\n\u001b[0m\u001b[1;32m     21\u001b[0m     \u001b[0;32melse\u001b[0m\u001b[0;34m:\u001b[0m\u001b[0;34m\u001b[0m\u001b[0m\n\u001b[1;32m     22\u001b[0m         \u001b[0mprint\u001b[0m\u001b[0;34m(\u001b[0m\u001b[0;34m'all done, no need to pull series'\u001b[0m\u001b[0;34m)\u001b[0m\u001b[0;34m\u001b[0m\u001b[0m\n",
      "\u001b[0;32m~/.conda/envs/py36R/lib/python3.6/subprocess.py\u001b[0m in \u001b[0;36mcall\u001b[0;34m(timeout, *popenargs, **kwargs)\u001b[0m\n\u001b[1;32m    267\u001b[0m     \u001b[0;32mwith\u001b[0m \u001b[0mPopen\u001b[0m\u001b[0;34m(\u001b[0m\u001b[0;34m*\u001b[0m\u001b[0mpopenargs\u001b[0m\u001b[0;34m,\u001b[0m \u001b[0;34m**\u001b[0m\u001b[0mkwargs\u001b[0m\u001b[0;34m)\u001b[0m \u001b[0;32mas\u001b[0m \u001b[0mp\u001b[0m\u001b[0;34m:\u001b[0m\u001b[0;34m\u001b[0m\u001b[0m\n\u001b[1;32m    268\u001b[0m         \u001b[0;32mtry\u001b[0m\u001b[0;34m:\u001b[0m\u001b[0;34m\u001b[0m\u001b[0m\n\u001b[0;32m--> 269\u001b[0;31m             \u001b[0;32mreturn\u001b[0m \u001b[0mp\u001b[0m\u001b[0;34m.\u001b[0m\u001b[0mwait\u001b[0m\u001b[0;34m(\u001b[0m\u001b[0mtimeout\u001b[0m\u001b[0;34m=\u001b[0m\u001b[0mtimeout\u001b[0m\u001b[0;34m)\u001b[0m\u001b[0;34m\u001b[0m\u001b[0m\n\u001b[0m\u001b[1;32m    270\u001b[0m         \u001b[0;32mexcept\u001b[0m\u001b[0;34m:\u001b[0m\u001b[0;34m\u001b[0m\u001b[0m\n\u001b[1;32m    271\u001b[0m             \u001b[0mp\u001b[0m\u001b[0;34m.\u001b[0m\u001b[0mkill\u001b[0m\u001b[0;34m(\u001b[0m\u001b[0;34m)\u001b[0m\u001b[0;34m\u001b[0m\u001b[0m\n",
      "\u001b[0;32m~/.conda/envs/py36R/lib/python3.6/subprocess.py\u001b[0m in \u001b[0;36mwait\u001b[0;34m(self, timeout, endtime)\u001b[0m\n\u001b[1;32m   1444\u001b[0m                         \u001b[0;32mif\u001b[0m \u001b[0mself\u001b[0m\u001b[0;34m.\u001b[0m\u001b[0mreturncode\u001b[0m \u001b[0;32mis\u001b[0m \u001b[0;32mnot\u001b[0m \u001b[0;32mNone\u001b[0m\u001b[0;34m:\u001b[0m\u001b[0;34m\u001b[0m\u001b[0m\n\u001b[1;32m   1445\u001b[0m                             \u001b[0;32mbreak\u001b[0m  \u001b[0;31m# Another thread waited.\u001b[0m\u001b[0;34m\u001b[0m\u001b[0m\n\u001b[0;32m-> 1446\u001b[0;31m                         \u001b[0;34m(\u001b[0m\u001b[0mpid\u001b[0m\u001b[0;34m,\u001b[0m \u001b[0msts\u001b[0m\u001b[0;34m)\u001b[0m \u001b[0;34m=\u001b[0m \u001b[0mself\u001b[0m\u001b[0;34m.\u001b[0m\u001b[0m_try_wait\u001b[0m\u001b[0;34m(\u001b[0m\u001b[0;36m0\u001b[0m\u001b[0;34m)\u001b[0m\u001b[0;34m\u001b[0m\u001b[0m\n\u001b[0m\u001b[1;32m   1447\u001b[0m                         \u001b[0;31m# Check the pid and loop as waitpid has been known to\u001b[0m\u001b[0;34m\u001b[0m\u001b[0;34m\u001b[0m\u001b[0m\n\u001b[1;32m   1448\u001b[0m                         \u001b[0;31m# return 0 even without WNOHANG in odd situations.\u001b[0m\u001b[0;34m\u001b[0m\u001b[0;34m\u001b[0m\u001b[0m\n",
      "\u001b[0;32m~/.conda/envs/py36R/lib/python3.6/subprocess.py\u001b[0m in \u001b[0;36m_try_wait\u001b[0;34m(self, wait_flags)\u001b[0m\n\u001b[1;32m   1391\u001b[0m             \u001b[0;34m\"\"\"All callers to this function MUST hold self._waitpid_lock.\"\"\"\u001b[0m\u001b[0;34m\u001b[0m\u001b[0m\n\u001b[1;32m   1392\u001b[0m             \u001b[0;32mtry\u001b[0m\u001b[0;34m:\u001b[0m\u001b[0;34m\u001b[0m\u001b[0m\n\u001b[0;32m-> 1393\u001b[0;31m                 \u001b[0;34m(\u001b[0m\u001b[0mpid\u001b[0m\u001b[0;34m,\u001b[0m \u001b[0msts\u001b[0m\u001b[0;34m)\u001b[0m \u001b[0;34m=\u001b[0m \u001b[0mos\u001b[0m\u001b[0;34m.\u001b[0m\u001b[0mwaitpid\u001b[0m\u001b[0;34m(\u001b[0m\u001b[0mself\u001b[0m\u001b[0;34m.\u001b[0m\u001b[0mpid\u001b[0m\u001b[0;34m,\u001b[0m \u001b[0mwait_flags\u001b[0m\u001b[0;34m)\u001b[0m\u001b[0;34m\u001b[0m\u001b[0m\n\u001b[0m\u001b[1;32m   1394\u001b[0m             \u001b[0;32mexcept\u001b[0m \u001b[0mChildProcessError\u001b[0m\u001b[0;34m:\u001b[0m\u001b[0;34m\u001b[0m\u001b[0m\n\u001b[1;32m   1395\u001b[0m                 \u001b[0;31m# This happens if SIGCLD is set to be ignored or waiting\u001b[0m\u001b[0;34m\u001b[0m\u001b[0;34m\u001b[0m\u001b[0m\n",
      "\u001b[0;31mKeyboardInterrupt\u001b[0m: "
     ]
    }
   ],
   "source": [
    "os.chdir(recgli_path_root)\n",
    "if bnum in bnums_in_archived: \n",
    "    print('pulling exam from archive')\n",
    "    os.chdir(os.path.abspath(bnum))\n",
    "    os.chdir(os.path.abspath(tnum))\n",
    "    ## find the snums in the folder:\n",
    "    snums_previously_pulled = os.listdir(Enum)\n",
    "    ## remove \"_raw\"\n",
    "    for i in range(0, len(snums_previously_pulled)):\n",
    "        if '_' in snums_previously_pulled[i]:\n",
    "            snums_previously_pulled[i] = snums_previously_pulled[i].split('_')[0]\n",
    "        else: \n",
    "            snums_previously_pulled[i] = snums_previously_pulled[i]\n",
    "    snums_to_pull = [series for series in series_nums_in_archive if series not in snums_previously_pulled]\n",
    "    os.chdir(recgli_path_root)\n",
    "    if len(snums_to_pull) > 0:\n",
    "        for snum in snums_to_pull:\n",
    "            print('pulling exam series number:'+snum)\n",
    "            dcm_qr_command = \"dcm_qr -\"+tnum+\" -s \"+snum+\" -p cjUCSF\\!1\"\n",
    "            sub.call(dcm_qr_command, shell=True)\n",
    "    else: \n",
    "        print('all done, no need to pull series')\n",
    "else: \n",
    "    print('no series pulled yet')\n",
    "    snums_to_pull = [series for series in series_nums_in_archive]\n",
    "    for snum in snums_to_pull:\n",
    "            print('pulling exam series number:'+snum)\n",
    "            dcm_qr_command = \"dcm_qr -\"+tnum+\" -s \"+snum+\" -p cjUCSF\\!1\"\n",
    "            sub.call(dcm_qr_command, shell=True)"
   ]
  },
  {
   "cell_type": "code",
   "execution_count": 92,
   "metadata": {
    "collapsed": false
   },
   "outputs": [
    {
     "data": {
      "text/plain": [
       "['301', '6', '302', '5', '8', '300', '7', '4']"
      ]
     },
     "execution_count": 92,
     "metadata": {},
     "output_type": "execute_result"
    }
   ],
   "source": [
    "snums_previously_pulled"
   ]
  },
  {
   "cell_type": "code",
   "execution_count": 93,
   "metadata": {
    "collapsed": false
   },
   "outputs": [
    {
     "data": {
      "text/plain": [
       "['4', '5', '6', '7', '8', '9', '10', '11']"
      ]
     },
     "execution_count": 93,
     "metadata": {},
     "output_type": "execute_result"
    }
   ],
   "source": [
    "series_nums_in_archive"
   ]
  },
  {
   "cell_type": "code",
   "execution_count": null,
   "metadata": {
    "collapsed": true
   },
   "outputs": [],
   "source": []
  }
 ],
 "metadata": {
  "kernelspec": {
   "display_name": "python36",
   "language": "python",
   "name": "python36"
  },
  "language_info": {
   "codemirror_mode": {
    "name": "ipython",
    "version": 3
   },
   "file_extension": ".py",
   "mimetype": "text/x-python",
   "name": "python",
   "nbconvert_exporter": "python",
   "pygments_lexer": "ipython3",
   "version": "3.6.2"
  }
 },
 "nbformat": 4,
 "nbformat_minor": 2
}
