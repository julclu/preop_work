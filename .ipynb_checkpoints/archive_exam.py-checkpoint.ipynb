{
 "cells": [
  {
   "cell_type": "code",
   "execution_count": 1,
   "metadata": {
    "collapsed": true,
    "deletable": true,
    "editable": true
   },
   "outputs": [],
   "source": [
    "import os\n",
    "import glob\n",
    "import argparse \n",
    "import subprocess as sub\n",
    "import shlex \n",
    "import pandas as pd\n",
    "from subprocess import PIPE, Popen"
   ]
  },
  {
   "cell_type": "code",
   "execution_count": 2,
   "metadata": {
    "collapsed": false,
    "deletable": true,
    "editable": true
   },
   "outputs": [
    {
     "data": {
      "text/plain": [
       "_StoreAction(option_strings=['--StudyName'], dest='StudyName', nargs=1, const=None, default='po1_preop_recur', type=<class 'str'>, choices=None, help='Study Identifier', metavar='S')"
      ]
     },
     "execution_count": 2,
     "metadata": {},
     "output_type": "execute_result"
    }
   ],
   "source": [
    "########### Create an argument parser \n",
    "parser = argparse.ArgumentParser(description='In this script we will import a single bnum/tnum, run the archive_exam perl script, and then dcm_qr to desired location.')\n",
    "parser.add_argument('bnum', type=str, nargs=1, help='Input the b-number of the patient.')\n",
    "parser.add_argument('tnum', metavar = 'C', type =str, nargs = 1, help = 'Input the t-number of the scan.')\n",
    "parser.add_argument('--NewLocation', metavar = 'N', default = '/data/RECglioma/archived', type = str, nargs = 1, help = 'New location for your de-identified exam.')\n",
    "parser.add_argument('--StudyName', metavar = 'S', default = 'po1_preop_recur', type = str, nargs = 1, help = \"Study Identifier\")\n"
   ]
  },
  {
   "cell_type": "code",
   "execution_count": 7,
   "metadata": {
    "collapsed": true,
    "deletable": true,
    "editable": true
   },
   "outputs": [],
   "source": [
    "## Test case for right now\n",
    "args = parser.parse_args('b2871 t6707'.split())"
   ]
  },
  {
   "cell_type": "code",
   "execution_count": 8,
   "metadata": {
    "collapsed": true,
    "deletable": true,
    "editable": true
   },
   "outputs": [],
   "source": [
    "########### Create strings of the arguments \n",
    "\n",
    "bnum = ''.join(args.bnum)\n",
    "tnum = ''.join(args.tnum)\n",
    "newloc = ''.join(args.NewLocation)\n",
    "studytag = ''.join(args.StudyName)"
   ]
  },
  {
   "cell_type": "code",
   "execution_count": 9,
   "metadata": {
    "collapsed": true,
    "deletable": true,
    "editable": true
   },
   "outputs": [],
   "source": [
    "########### Function for creating pathname and changing to directory name: \n",
    "\n",
    "preop_path_root = \"/data/bioe4/po1_preop_recur/\"\n",
    "def change_path(pathname_root):\n",
    "    pathname = pathname_root+bnum+'/'+tnum\n",
    "    os.chdir(pathname)\n",
    "    \n",
    "change_path(preop_path_root)"
   ]
  },
  {
   "cell_type": "code",
   "execution_count": 10,
   "metadata": {
    "collapsed": true,
    "deletable": true,
    "editable": true
   },
   "outputs": [],
   "source": [
    "########### Use glob to capture the Enum \n",
    "\n",
    "Enum = glob.glob('E*')\n",
    "Enum = Enum[0]\n"
   ]
  },
  {
   "cell_type": "code",
   "execution_count": 12,
   "metadata": {
    "collapsed": true
   },
   "outputs": [],
   "source": [
    "dxit_command = 'dcm_exam_info -'+tnum"
   ]
  },
  {
   "cell_type": "code",
   "execution_count": 11,
   "metadata": {
    "collapsed": false,
    "deletable": true,
    "editable": true
   },
   "outputs": [
    {
     "ename": "NameError",
     "evalue": "name 'dxit_command' is not defined",
     "output_type": "error",
     "traceback": [
      "\u001b[0;31m---------------------------------------------------------------------------\u001b[0m",
      "\u001b[0;31mNameError\u001b[0m                                 Traceback (most recent call last)",
      "\u001b[0;32m<ipython-input-11-65c045d5a34f>\u001b[0m in \u001b[0;36m<module>\u001b[0;34m()\u001b[0m\n\u001b[0;32m----> 1\u001b[0;31m \u001b[0mdxit_output\u001b[0m \u001b[0;34m=\u001b[0m \u001b[0msub\u001b[0m\u001b[0;34m.\u001b[0m\u001b[0mcheck_output\u001b[0m\u001b[0;34m(\u001b[0m\u001b[0mdxit_command\u001b[0m\u001b[0;34m,\u001b[0m \u001b[0mshell\u001b[0m\u001b[0;34m=\u001b[0m\u001b[0;32mTrue\u001b[0m\u001b[0;34m)\u001b[0m\u001b[0;34m\u001b[0m\u001b[0m\n\u001b[0m",
      "\u001b[0;31mNameError\u001b[0m: name 'dxit_command' is not defined"
     ]
    }
   ],
   "source": [
    "dxit_output = sub.check_output(dxit_command, shell=True)"
   ]
  },
  {
   "cell_type": "code",
   "execution_count": 23,
   "metadata": {
    "collapsed": false,
    "deletable": true,
    "editable": true
   },
   "outputs": [
    {
     "data": {
      "text/plain": [
       "['5', '6', '7', '8', '9', '10', '11']"
      ]
     },
     "execution_count": 23,
     "metadata": {},
     "output_type": "execute_result"
    }
   ],
   "source": [
    "\n",
    "lines = dxit_output.decode('utf-8').splitlines()[15:]\n",
    "series = [l.split()[0] for l in lines]\n",
    "series = [l for l in series if len(l) < 3]\n",
    "series"
   ]
  },
  {
   "cell_type": "code",
   "execution_count": 8,
   "metadata": {
    "collapsed": true,
    "deletable": true,
    "editable": true
   },
   "outputs": [],
   "source": [
    "try:\n",
    "    stdout, stderr = dxit_proc.communicate(timeout = 30)\n",
    "except TimeoutExpired: \n",
    "    dxit_proc.kill()\n",
    "    stdout, stderr = dxit_proc.communicate()"
   ]
  },
  {
   "cell_type": "code",
   "execution_count": null,
   "metadata": {
    "collapsed": true,
    "deletable": true,
    "editable": true
   },
   "outputs": [],
   "source": []
  },
  {
   "cell_type": "code",
   "execution_count": 10,
   "metadata": {
    "collapsed": false,
    "deletable": true,
    "editable": true
   },
   "outputs": [
    {
     "data": {
      "text/plain": [
       "b'db_instance:    brain\\ndb_environment: brain_production\\nINSTANCE: brain\\n###################################\\nExpired Kerberos TGT, get a new one\\nPassword for sf673542@RADIOLOGY.UCSF.EDU: \\n###################################\\n\\n\\nseries_number  series_description                       SOP_Class           \\n--------------------------------------------------------------------------------------------------------------\\n1              Scouts-WEIGHT < 190 lbs                  MRImageStorage      \\n2              ASSET CAL                                MRImageStorage      \\n3              SAG FLAIR CUBE                           MRImageStorage      \\n4              HARDI   DTI B=2000 Dir=55                MRImageStorage      \\n5              PRE GAD AX-T1 3D IRSPGR w/ASSET          MRImageStorage      \\n6              DWI 6 DIR b=1000 w/ASSET                 MRImageStorage      \\n7              3D FSE Asset Ax 20 slabs                 MRImageStorage      \\n8              FSPGR SAG                                MRImageStorage      \\n9              2D MRV  put  graphic sat in FOV          MRImageStorage      \\n10             perfusion 1500TR ASSET                   MRImageStorage      \\n11             POSTGAD AX-T1 3D IRSPGR w/ASSET          MRImageStorage      \\n300            Reformatted                              MRImageStorage      \\n301            Reformatted                              MRImageStorage      \\n900            PJN                                      MRImageStorage      \\n7211           T1CA_ALIGNED2S11                         EnhancedMRImageStorage\\n7212           FLA_ALIGNED2S11                          EnhancedMRImageStorage\\n7213           T1VA_ALIGNED2S11                         EnhancedMRImageStorage\\n7411           CEL_ROI_ALIGNED2S11                      EnhancedMRImageStorage\\n7412           T2ALL_ROI_ALIGNED2S11                    EnhancedMRImageStorage\\n'"
      ]
     },
     "execution_count": 10,
     "metadata": {},
     "output_type": "execute_result"
    }
   ],
   "source": [
    "stdout"
   ]
  },
  {
   "cell_type": "code",
   "execution_count": 9,
   "metadata": {
    "collapsed": false,
    "deletable": true,
    "editable": true
   },
   "outputs": [
    {
     "name": "stdout",
     "output_type": "stream",
     "text": [
      "['n', 'nseries_number  series_description                       SOP_Class           ', 'n--------------------------------------------------------------------------------------------------------------', 'n1              Scouts-WEIGHT < 190 lbs                  MRImageStorage      ', 'n2              ASSET CAL                                MRImageStorage      ', 'n3              SAG FLAIR CUBE                           MRImageStorage      ', 'n4              HARDI   DTI B=2000 Dir=55                MRImageStorage      ', 'n5              PRE GAD AX-T1 3D IRSPGR w/ASSET          MRImageStorage      ', 'n6              DWI 6 DIR b=1000 w/ASSET                 MRImageStorage      ', 'n7              3D FSE Asset Ax 20 slabs                 MRImageStorage      ', 'n8              FSPGR SAG                                MRImageStorage      ', 'n9              2D MRV  put  graphic sat in FOV          MRImageStorage      ', 'n10             perfusion 1500TR ASSET                   MRImageStorage      ', 'n11             POSTGAD AX-T1 3D IRSPGR w/ASSET          MRImageStorage      ', 'n300            Reformatted                              MRImageStorage      ', 'n301            Reformatted                              MRImageStorage      ', 'n900            PJN                                      MRImageStorage      ', 'n7211           T1CA_ALIGNED2S11                         EnhancedMRImageStorage', 'n7212           FLA_ALIGNED2S11                          EnhancedMRImageStorage', 'n7213           T1VA_ALIGNED2S11                         EnhancedMRImageStorage', 'n7411           CEL_ROI_ALIGNED2S11                      EnhancedMRImageStorage', 'n7412           T2ALL_ROI_ALIGNED2S11                    EnhancedMRImageStorage']\n",
      "n\n",
      "[[''], ['series_number  series_description', '', '       SOP_Class', '   '], ['--------------------------------------------------------------------------------------------------------------'], ['1', '      Scouts-WEIGHT < 190 lbs', '', '  MRImageStorage      '], ['2', '      ASSET CAL', '', '', '', 'MRImageStorage      '], ['3', '      SAG FLAIR CUBE', '', '', '   MRImageStorage      '], ['4', '      HARDI   DTI B=2000 Dir=55', '', 'MRImageStorage      '], ['5', '      PRE GAD AX-T1 3D IRSPGR w/ASSET', '  MRImageStorage      '], ['6', '      DWI 6 DIR b=1000 w/ASSET', '', ' MRImageStorage      '], ['7', '      3D FSE Asset Ax 20 slabs', '', ' MRImageStorage      '], ['8', '      FSPGR SAG', '', '', '', 'MRImageStorage      '], ['9', '      2D MRV  put  graphic sat in FOV', '  MRImageStorage      '], ['10', '     perfusion 1500TR ASSET', '', '   MRImageStorage      '], ['11', '     POSTGAD AX-T1 3D IRSPGR w/ASSET', '  MRImageStorage      '], ['300', '    Reformatted', '', '', '      MRImageStorage      '], ['301', '    Reformatted', '', '', '      MRImageStorage      '], ['900', '    PJN', '', '', '', '      MRImageStorage      '], ['7211', '   T1CA_ALIGNED2S11', '', '', ' EnhancedMRImageStorage'], ['7212', '   FLA_ALIGNED2S11', '', '', '  EnhancedMRImageStorage'], ['7213', '   T1VA_ALIGNED2S11', '', '', ' EnhancedMRImageStorage'], ['7411', '   CEL_ROI_ALIGNED2S11', '', '      EnhancedMRImageStorage'], ['7412', '   T2ALL_ROI_ALIGNED2S11', '', '    EnhancedMRImageStorage']]\n"
     ]
    }
   ],
   "source": [
    "stdout_list = str(stdout).split(\"\\\\\")\n",
    "stdout_list = stdout_list[8:-1]\n",
    "print(stdout_list)\n",
    "stdout_list_of_list = [elt.split('        ') for elt in stdout_list]\n",
    "stdout_list_of_list \n",
    "print(stdout_list_of_list[0][0][0:1])\n",
    "\n",
    "for i in range(0,len(stdout_list_of_list)):\n",
    "    stdout_list_of_list[i][0] = stdout_list_of_list[i][0][1:]\n",
    "\n",
    "print(stdout_list_of_list)\n"
   ]
  },
  {
   "cell_type": "code",
   "execution_count": 92,
   "metadata": {
    "collapsed": false,
    "deletable": true,
    "editable": true
   },
   "outputs": [],
   "source": [
    "stdout_df = pd.DataFrame(stdout_list_of_list)"
   ]
  },
  {
   "cell_type": "code",
   "execution_count": 102,
   "metadata": {
    "collapsed": false,
    "deletable": true,
    "editable": true
   },
   "outputs": [],
   "source": [
    "stdout_df[0]= stdout_df[0].astype('int32')"
   ]
  },
  {
   "cell_type": "code",
   "execution_count": 103,
   "metadata": {
    "collapsed": false,
    "deletable": true,
    "editable": true
   },
   "outputs": [
    {
     "data": {
      "text/plain": [
       "0     int32\n",
       "1    object\n",
       "2    object\n",
       "3    object\n",
       "4    object\n",
       "5    object\n",
       "dtype: object"
      ]
     },
     "execution_count": 103,
     "metadata": {},
     "output_type": "execute_result"
    }
   ],
   "source": [
    "stdout_df.dtypes"
   ]
  },
  {
   "cell_type": "code",
   "execution_count": 106,
   "metadata": {
    "collapsed": false,
    "deletable": true,
    "editable": true
   },
   "outputs": [],
   "source": [
    "seriesnums = stdout_df.loc[stdout_df[0]<20][0]"
   ]
  },
  {
   "cell_type": "code",
   "execution_count": 116,
   "metadata": {
    "collapsed": false,
    "deletable": true,
    "editable": true
   },
   "outputs": [],
   "source": [
    "seriesnums = list(seriesnums)"
   ]
  },
  {
   "cell_type": "code",
   "execution_count": 119,
   "metadata": {
    "collapsed": true,
    "deletable": true,
    "editable": true
   },
   "outputs": [],
   "source": [
    "recgli_path_root = '/data/RECglioma/archived/'"
   ]
  },
  {
   "cell_type": "code",
   "execution_count": 130,
   "metadata": {
    "collapsed": false,
    "deletable": true,
    "editable": true
   },
   "outputs": [],
   "source": [
    "dcm_qr_series_command = 'dcm_qr -'+tnum+' -s '+str(seriesnums[0])\n"
   ]
  },
  {
   "cell_type": "code",
   "execution_count": 131,
   "metadata": {
    "collapsed": false,
    "deletable": true,
    "editable": true
   },
   "outputs": [],
   "source": [
    "for i in range(0,len(seriesnums)):\n",
    "    os.chdir(recgli_path_root)\n",
    "    dcm_qr_series_command = 'dcm_qr -'+tnum+'-s '+ str(seriesnums[i])\n",
    "    dqrs_proc = sub.Popen(dcm_qr_series_command, stdin = sub.PIPE, stdout = sub.PIPE, stderr = sub.PIPE, shell = True)\n",
    "    dqrs_proc.stdin.write(b'cjUCSF!1\\n')\n",
    "    dqrs_proc.stdin.flush()\n",
    "    try:\n",
    "        stdout, stderr = dqrs_proc.communicate(timeout = 40)\n",
    "    except TimeoutExpired:\n",
    "        dqrs_proc.kill()\n",
    "        stdout, stderr = dqrs_proc.communicate()"
   ]
  },
  {
   "cell_type": "code",
   "execution_count": 133,
   "metadata": {
    "collapsed": false,
    "deletable": true,
    "editable": true
   },
   "outputs": [
    {
     "data": {
      "text/plain": [
       "b'ERROR: Could not execute stored procedure: select select_brain_id_from_tnum(6929-s)\\n'"
      ]
     },
     "execution_count": 133,
     "metadata": {},
     "output_type": "execute_result"
    }
   ],
   "source": [
    "stderr"
   ]
  },
  {
   "cell_type": "code",
   "execution_count": 54,
   "metadata": {
    "collapsed": true,
    "deletable": true,
    "editable": true
   },
   "outputs": [],
   "source": [
    "########### Use subprocess to run perl script \n",
    "arc_exam_command = 'archive_exam -e '+Enum+' --raw_prefix t '+'--study '+studytag+' -D'\n",
    "proc = sub.Popen(arc_exam_command, stdin=sub.PIPE, stdout = sub.PIPE, stderr = sub.PIPE, shell = True)\n",
    "proc.stdin.write(b'cjUCSF!1\\n')\n",
    "proc.stdin.flush()\n"
   ]
  },
  {
   "cell_type": "code",
   "execution_count": 10,
   "metadata": {
    "collapsed": false,
    "deletable": true,
    "editable": true
   },
   "outputs": [],
   "source": [
    "try:\n",
    "    stdout, stderr = proc.communicate(timeout = 200)\n",
    "except TimeoutExpired: \n",
    "    proc.kill()\n",
    "    stdout, stderr = proc.communicate"
   ]
  },
  {
   "cell_type": "code",
   "execution_count": 11,
   "metadata": {
    "collapsed": false,
    "deletable": true,
    "editable": true
   },
   "outputs": [
    {
     "name": "stdout",
     "output_type": "stream",
     "text": [
      "b\"db_instance:    brain\\ndb_environment: brain_production\\nINSTANCE: brain\\nget_patient_id -e E11070 -c\\npwd: /data/bioe4/po1_preop_recur/b2292/t6929\\nget_exam_id -e E11070 -c\\ntnum: t6929\\nValid Krb TGT\\n\\nselect select_accession_from_tnum(6929)\\ncwd: /data/bioe4/po1_preop_recur/b2292/t6929/archive_dir_tmp_t6929\\nERROR: No file or directory named '-r' was found.\\nRaw files to archive: /data/bioe4/po1_preop_recur/b2292/t6929/archive_dir_tmp_t6929/../t*\\nfound: \\n=========================================\\nWARNING: Could not find raw files: /data/bioe4/po1_preop_recur/b2292/t6929/archive_dir_tmp_t6929/../t* \\n=========================================\\n\\nget_scanner_data --archive_local ./ -a 7233086  -D  --study po1_preop_recur \\n\\ndb_instance:    brain\\ndb_environment: brain_production\\nINSTANCE: brain\\npassword:\\n\\ndcm_echo -D  -p XXXX\\nis downloading finished: find /data/bioe4/po1_preop_recur/b2292/t6929/archive_dir_tmp_t6929/E11070 -name '*.DCM' | wc\\n\\tNUM downloaded:       0       0       0\\n\\tNUM downloaded:       0       0       0\\nDICOM: \\n\\tcopying /data/bioe4/po1_preop_recur/b2292/t6929/archive_dir_tmp_t6929/E11070 to scanner_data_xfr_tmp                                        \\nRAW:   \\n\\n======================================= \\nLookup Brain IDs:                     \\n======================================= \\nValid Krb TGT\\n\\nexecute: select select_exam_from_accession('7233086') \\nexam_info: brain_id: 2292 t_number: 6929.\\n\\npwd: /data/bioe4/po1_preop_recur/b2292/t6929/archive_dir_tmp_t6929/b2292/tnum_tmp/scanner_data_xfr_tmp\\n\\n======================================= \\nConvert raw to DICOM:                   \\n======================================= \\n\\n======================================= \\nUpload Exam Info To DB:                 \\n======================================= \\n\\ninsert_imaging_attributes --exam_dir /data/bioe4/po1_preop_recur/b2292/t6929/archive_dir_tmp_t6929/b2292/tnum_tmp/scanner_data_xfr_tmp/EXAM7233086 -D >> /data/bioe4/po1_preop_recur/b2292/t6929/archive_dir_tmp_t6929/b2292/tnum_tmp/scanner_data_xfr_tmp/output.log 2>&1\\nOutput will be written to /data/bioe4/po1_preop_recur/b2292/t6929/archive_dir_tmp_t6929/b2292/tnum_tmp/scanner_data_xfr_tmp\\nsql.out \\nERROR: No file or directory named '-r' was found.\\n======================================= \\nArchive DICOM exam in brain PACS        \\n======================================= \\nNUMBER OF DICOM IMAGES TO ARCHIVE: 5085\\n\\ndcm_snd -g  -e /data/bioe4/po1_preop_recur/b2292/t6929/archive_dir_tmp_t6929/b2292/tnum_tmp/scanner_data_xfr_tmp/EXAM7233086  -p xxxx\\n. . . . . . \\nSeries transmitted(6/14): 42% ( 358 images ) \\n. \\nSeries transmitted(12/14): 85% ( 1277 images ) \\n. . \\nSeries transmitted(13/14): 92% ( 2397 images ) \\n. . . . . \\n###############################################\\n###############################################\\n\\nERROR ARCHIVING EXAM: get_scanner_data --archive_local ./ -a 7233086  -D  --study po1_preop_recur \\n\\n###############################################\\n###############################################\\n\\n\"\n",
      "---------------------\n",
      "b'NOTICE:  patient_id: 2292 exam_number: 6929\\nstty: standard input: Inappropriate ioctl for device\\nstty: standard input: Inappropriate ioctl for device\\nNOTICE:  patient_id: 2292 exam_number: 6929\\nNOTICE:  patient_id: 2292 exam_number: 6929\\n\\nInterrupted!\\nPlease wait while qsub shuts down.\\n'\n"
     ]
    }
   ],
   "source": [
    "print(stdout)\n",
    "print(\"---------------------\")\n",
    "print(stderr)"
   ]
  },
  {
   "cell_type": "code",
   "execution_count": null,
   "metadata": {
    "collapsed": true,
    "deletable": true,
    "editable": true
   },
   "outputs": [],
   "source": [
    "########### Change to /data/RECglioma/archived & use subprocess to run dcm_qr \n",
    "\n",
    "recgli_path_root = '/data/RECglioma/archived/'\n",
    "os.chdir(recgli_path_root)\n",
    "dcm_qr_command = 'dcm_qr -'+tnum\n",
    "\n",
    "dcm_proc = sub.Popen(dcm_qr_command, stdin=sub.PIPE, stdout = sub.PIPE, stderr = sub.PIPE, shell = True)\n",
    "dcm_proc.stdin.write(b'cjUCSF!1\\n')\n",
    "dcm_proc.stdin.flush()\n",
    "try:\n",
    "    stdout, stderr = dcm_proc.communicate(timeout = 300)\n",
    "except TimeoutExpired: \n",
    "    dcm_proc.kill()\n",
    "    stdout, stderr = dcm_proc.communicate()\n",
    "\n"
   ]
  }
 ],
 "metadata": {
  "kernelspec": {
   "display_name": "python36",
   "language": "python",
   "name": "python36"
  },
  "language_info": {
   "codemirror_mode": {
    "name": "ipython",
    "version": 3
   },
   "file_extension": ".py",
   "mimetype": "text/x-python",
   "name": "python",
   "nbconvert_exporter": "python",
   "pygments_lexer": "ipython3",
   "version": "3.6.2"
  }
 },
 "nbformat": 4,
 "nbformat_minor": 2
}
