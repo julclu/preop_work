{
 "cells": [
  {
   "cell_type": "code",
   "execution_count": 1,
   "metadata": {
    "collapsed": true,
    "deletable": true,
    "editable": true
   },
   "outputs": [],
   "source": [
    "import os\n",
    "import glob\n",
    "import argparse \n",
    "import subprocess as sub\n",
    "import shlex \n",
    "from subprocess import PIPE, Popen\n",
    "import pandas as pd\n",
    "import re"
   ]
  },
  {
   "cell_type": "code",
   "execution_count": 26,
   "metadata": {
    "collapsed": false,
    "deletable": true,
    "editable": true
   },
   "outputs": [
    {
     "name": "stdout",
     "output_type": "stream",
     "text": [
      "creating argument parser\n",
      "parsing the arg\n"
     ]
    }
   ],
   "source": [
    "print('creating argument parser')\n",
    "########### Create an argument parser \n",
    "parser = argparse.ArgumentParser(description='In this script we will import a single bnum/tnum, run the archive_exam perl script, and then dcm_qr to desired location.')\n",
    "parser.add_argument('bnum', type=str, nargs=1, help='Input the b-number of the patient.')\n",
    "parser.add_argument('tnum', metavar = 't', type =str, nargs = 1, help = 'Input the t-number of the scan.')\n",
    "print('parsing the arg')\n",
    "args = parser.parse_args('b2647 t6144'.split())\n",
    "bnum = ''.join(args.bnum)\n",
    "tnum = ''.join(args.tnum)"
   ]
  },
  {
   "cell_type": "code",
   "execution_count": 27,
   "metadata": {
    "collapsed": false,
    "deletable": true,
    "editable": true
   },
   "outputs": [
    {
     "name": "stdout",
     "output_type": "stream",
     "text": [
      "setting path roots\n"
     ]
    }
   ],
   "source": [
    "print('setting path roots')\n",
    "########### Function for creating pathname and changing to directory name: \n",
    "preop_path_root = \"/data/bioe4/po1_preop_recur/\"\n",
    "recgli_path_root = '/data/RECglioma/archived/'"
   ]
  },
  {
   "cell_type": "code",
   "execution_count": 28,
   "metadata": {
    "collapsed": false,
    "deletable": true,
    "editable": true
   },
   "outputs": [
    {
     "name": "stdout",
     "output_type": "stream",
     "text": [
      "changing path\n"
     ]
    }
   ],
   "source": [
    "print('changing path')\n",
    "def change_path(pathname_root):\n",
    "    pathname = pathname_root+bnum+'/'+tnum\n",
    "    os.chdir(pathname)\n",
    "change_path(recgli_path_root)"
   ]
  },
  {
   "cell_type": "code",
   "execution_count": 29,
   "metadata": {
    "collapsed": false,
    "deletable": true,
    "editable": true
   },
   "outputs": [
    {
     "data": {
      "text/plain": [
       "'/data/RECglioma/archived/b2647/t6144'"
      ]
     },
     "execution_count": 29,
     "metadata": {},
     "output_type": "execute_result"
    }
   ],
   "source": [
    "os.getcwd()"
   ]
  },
  {
   "cell_type": "code",
   "execution_count": 40,
   "metadata": {
    "collapsed": true,
    "deletable": true,
    "editable": true
   },
   "outputs": [],
   "source": [
    "Enum = glob.glob('E*')\n",
    "Enum = Enum[0]\n",
    "Snums = os.listdir(Enum)"
   ]
  },
  {
   "cell_type": "code",
   "execution_count": 41,
   "metadata": {
    "collapsed": false,
    "deletable": true,
    "editable": true
   },
   "outputs": [],
   "source": [
    "dxit_command = 'dcm_exam_info -'+tnum\n",
    "dxit_output = sub.check_output(dxit_command, shell=True)\n",
    "dxit_lines = dxit_output.decode('utf-8').splitlines()\n",
    "index_to_split = [i for i, s in enumerate(dxit_lines) if '-----' in s]\n",
    "index_to_split = index_to_split[0]\n",
    "index_to_split+=1\n",
    "dxit_lines = dxit_lines[index_to_split:]"
   ]
  },
  {
   "cell_type": "code",
   "execution_count": 42,
   "metadata": {
    "collapsed": false,
    "deletable": true,
    "editable": true
   },
   "outputs": [],
   "source": [
    "dti_keywords = ['dwi', '6', '1000', 'b=1000', 'diffu', 'diffusion', '6dir','dti', '2000', 'b=2000', 'HARDI', '55', 'dir=55', '2250']"
   ]
  },
  {
   "cell_type": "code",
   "execution_count": 43,
   "metadata": {
    "collapsed": false,
    "deletable": true,
    "editable": true
   },
   "outputs": [
    {
     "data": {
      "text/plain": [
       "['1              Scouts-WEIGHT < 190 lbs                  MRImageStorage      ',\n",
       " '2              ASSET CAL SI                             MRImageStorage      ',\n",
       " '3              ASSET CAL                                MRImageStorage      ',\n",
       " '4              XETA T2 FLAIR                            MRImageStorage      ',\n",
       " '5              HARDI   DTI B=2000 Dir=55                MRImageStorage      ',\n",
       " '6              MRS lactate edit flyback long echo       RawDataStorage      ',\n",
       " '7              PRE GAD AX-T1 3D IRSPGR w/ASSET          MRImageStorage      ',\n",
       " '8              DWI 6 DIR b=1000 w/ASSET                 MRImageStorage      ',\n",
       " '9              3D FSE Asset Ax 20 slabs                 MRImageStorage      ',\n",
       " '10             perfusion 1500TR ASSET                   MRImageStorage      ',\n",
       " '11             POSTGAD AX-T1 3D IRSPGR w/ASSET          MRImageStorage      ',\n",
       " '91             FSE + Tractography                       MRImageStorage      ',\n",
       " '92             SPGR + Tractography                      MRImageStorage      ',\n",
       " '400            Reformatted                              MRImageStorage      ',\n",
       " '401            Reformatted                              MRImageStorage      ',\n",
       " '1004           MR-SPECTROSCOPY                          SecondaryCaptureImageStorage',\n",
       " '1011           MR-SPECTROSCOPY                          SecondaryCaptureImageStorage',\n",
       " '7211           T1CA_ALIGNED2S11                         EnhancedMRImageStorage',\n",
       " '7212           FLA_ALIGNED2S11                          EnhancedMRImageStorage',\n",
       " '7213           T1VA_ALIGNED2S11                         EnhancedMRImageStorage',\n",
       " '7411           CEL_ROI_ALIGNED2S11                      EnhancedMRImageStorage',\n",
       " '7412           T2ALL_ROI_ALIGNED2S11                    EnhancedMRImageStorage']"
      ]
     },
     "execution_count": 43,
     "metadata": {},
     "output_type": "execute_result"
    }
   ],
   "source": [
    "dxit_lines"
   ]
  },
  {
   "cell_type": "code",
   "execution_count": 44,
   "metadata": {
    "collapsed": false,
    "deletable": true,
    "editable": true
   },
   "outputs": [],
   "source": [
    "lines_with_dti = list()\n",
    "for keyword in dti_keywords:\n",
    "    lines = [dxit_line.split()[0] for dxit_line in dxit_lines if re.search(keyword, dxit_line, re.IGNORECASE)]\n",
    "    lines_with_dti.append(lines)"
   ]
  },
  {
   "cell_type": "code",
   "execution_count": 45,
   "metadata": {
    "collapsed": false,
    "deletable": true,
    "editable": true
   },
   "outputs": [
    {
     "data": {
      "text/plain": [
       "[['8'], ['6', '8'], ['8'], ['8'], ['5'], ['5'], ['5'], ['5'], ['5'], ['5']]"
      ]
     },
     "execution_count": 45,
     "metadata": {},
     "output_type": "execute_result"
    }
   ],
   "source": [
    "lines_with_dti\n",
    "lines_with_dti = [x for x in lines_with_dti if x != []]\n",
    "lines_with_dti"
   ]
  },
  {
   "cell_type": "code",
   "execution_count": 46,
   "metadata": {
    "collapsed": false,
    "deletable": true,
    "editable": true
   },
   "outputs": [
    {
     "data": {
      "text/plain": [
       "[['5'], ['6', '8'], ['8']]"
      ]
     },
     "execution_count": 46,
     "metadata": {},
     "output_type": "execute_result"
    }
   ],
   "source": [
    "unique_data = [list(x) for x in set(tuple(x) for x in lines_with_dti)]\n",
    "len(unique_data)\n",
    "\n",
    "unique_data"
   ]
  },
  {
   "cell_type": "code",
   "execution_count": 47,
   "metadata": {
    "collapsed": true
   },
   "outputs": [],
   "source": [
    "bnum_for_snum_dict = dict()"
   ]
  },
  {
   "cell_type": "code",
   "execution_count": 39,
   "metadata": {
    "collapsed": false
   },
   "outputs": [
    {
     "ename": "FileNotFoundError",
     "evalue": "[Errno 2] No such file or directory: 'E8497/5*'",
     "output_type": "error",
     "traceback": [
      "\u001b[0;31m---------------------------------------------------------------------------\u001b[0m",
      "\u001b[0;31mFileNotFoundError\u001b[0m                         Traceback (most recent call last)",
      "\u001b[0;32m<ipython-input-39-dc95a41e67e1>\u001b[0m in \u001b[0;36m<module>\u001b[0;34m()\u001b[0m\n\u001b[1;32m      2\u001b[0m \u001b[0;32mfor\u001b[0m \u001b[0mi\u001b[0m \u001b[0;32min\u001b[0m \u001b[0mrange\u001b[0m\u001b[0;34m(\u001b[0m\u001b[0;36m0\u001b[0m\u001b[0;34m,\u001b[0m \u001b[0mlen\u001b[0m\u001b[0;34m(\u001b[0m\u001b[0munique_data\u001b[0m\u001b[0;34m)\u001b[0m\u001b[0;34m)\u001b[0m\u001b[0;34m:\u001b[0m\u001b[0;34m\u001b[0m\u001b[0m\n\u001b[1;32m      3\u001b[0m     \u001b[0mchange_path\u001b[0m\u001b[0;34m(\u001b[0m\u001b[0mrecgli_path_root\u001b[0m\u001b[0;34m)\u001b[0m\u001b[0;34m\u001b[0m\u001b[0m\n\u001b[0;32m----> 4\u001b[0;31m     \u001b[0mos\u001b[0m\u001b[0;34m.\u001b[0m\u001b[0mchdir\u001b[0m\u001b[0;34m(\u001b[0m\u001b[0mEnum\u001b[0m\u001b[0;34m+\u001b[0m\u001b[0;34m\"/\"\u001b[0m\u001b[0;34m+\u001b[0m\u001b[0munique_data\u001b[0m\u001b[0;34m[\u001b[0m\u001b[0mi\u001b[0m\u001b[0;34m]\u001b[0m\u001b[0;34m[\u001b[0m\u001b[0;36m0\u001b[0m\u001b[0;34m]\u001b[0m\u001b[0;34m+\u001b[0m\u001b[0;34m\"*\"\u001b[0m\u001b[0;34m)\u001b[0m\u001b[0;34m\u001b[0m\u001b[0m\n\u001b[0m\u001b[1;32m      5\u001b[0m     \u001b[0mdcms\u001b[0m \u001b[0;34m=\u001b[0m \u001b[0mos\u001b[0m\u001b[0;34m.\u001b[0m\u001b[0mlistdir\u001b[0m\u001b[0;34m(\u001b[0m\u001b[0;34m)\u001b[0m\u001b[0;34m\u001b[0m\u001b[0m\n\u001b[1;32m      6\u001b[0m     \u001b[0mdcm_dump_command\u001b[0m \u001b[0;34m=\u001b[0m \u001b[0;34m\"dcmdump \"\u001b[0m\u001b[0;34m+\u001b[0m\u001b[0mdcms\u001b[0m\u001b[0;34m[\u001b[0m\u001b[0;36m0\u001b[0m\u001b[0;34m]\u001b[0m\u001b[0;34m+\u001b[0m\u001b[0;34m\" | grep -i '0043,1039'\"\u001b[0m\u001b[0;34m\u001b[0m\u001b[0m\n",
      "\u001b[0;31mFileNotFoundError\u001b[0m: [Errno 2] No such file or directory: 'E8497/5*'"
     ]
    }
   ],
   "source": [
    "## we want to actually see what the b-vals are in these, and then use the b1000 and b2000 sequences to make sure we're processing them correclty: \n",
    "for i in range(0, len(unique_data)): \n",
    "    change_path(recgli_path_root)\n",
    "    if unique_data[i][0] in Snums: \n",
    "        os.chdir(Enum+\"/\"+unique_data[i][0])\n",
    "        dcms = os.listdir()\n",
    "        dcm_dump_command = \"dcmdump \"+dcms[0]+\" | grep -i '0043,1039'\"\n",
    "        x = sub.check_output(dcm_dump_command, shell =True)\n",
    "        x = x.decode(\"utf-8\") \n",
    "        x = x.split(\"[\")\n",
    "        bnum_for_snum = x[1].split('\\\\')[0]\n",
    "        bnum_for_snum_dict[bnum_for_snum]=unique_data[i][0]\n",
    "            \n",
    "bnum_for_snum_dict"
   ]
  },
  {
   "cell_type": "code",
   "execution_count": 23,
   "metadata": {
    "collapsed": false
   },
   "outputs": [
    {
     "data": {
      "text/plain": [
       "['E5595',\n",
       " 'Logfile',\n",
       " 'input',\n",
       " 'scripts',\n",
       " 'images',\n",
       " 'output',\n",
       " 'diffusion_b=1000']"
      ]
     },
     "execution_count": 23,
     "metadata": {},
     "output_type": "execute_result"
    }
   ],
   "source": [
    "change_path(recgli_path_root)\n",
    "if 'diffusion_b=1000' not in os.listdir(\".\")"
   ]
  },
  {
   "cell_type": "code",
   "execution_count": 18,
   "metadata": {
    "collapsed": false
   },
   "outputs": [],
   "source": [
    "process_dti1000_command = \"process_DTI_brain \"+Enum+\"/\"+bnum_for_snum_dict['1000']+\" \"+tnum"
   ]
  },
  {
   "cell_type": "code",
   "execution_count": 19,
   "metadata": {
    "collapsed": false
   },
   "outputs": [
    {
     "data": {
      "text/plain": [
       "'process_DTI_brain E5595/7 t5361'"
      ]
     },
     "execution_count": 19,
     "metadata": {},
     "output_type": "execute_result"
    }
   ],
   "source": [
    "process_dti1000_command"
   ]
  },
  {
   "cell_type": "code",
   "execution_count": 20,
   "metadata": {
    "collapsed": false
   },
   "outputs": [
    {
     "data": {
      "text/plain": [
       "1"
      ]
     },
     "execution_count": 20,
     "metadata": {},
     "output_type": "execute_result"
    }
   ],
   "source": [
    "sub.call(process_dti1000_command, shell =True)"
   ]
  },
  {
   "cell_type": "code",
   "execution_count": 75,
   "metadata": {
    "collapsed": false,
    "deletable": true,
    "editable": true
   },
   "outputs": [],
   "source": [
    "process_dti1000_command = \"process_DTI_brain \"+Enum+\"/\"+bnum_for_snum_dict['2000']+\" \"+tnum"
   ]
  },
  {
   "cell_type": "code",
   "execution_count": 24,
   "metadata": {
    "collapsed": false
   },
   "outputs": [
    {
     "data": {
      "text/plain": [
       "{'0': '6', '1000': '7', '2000': '11', '2250': '8'}"
      ]
     },
     "execution_count": 24,
     "metadata": {},
     "output_type": "execute_result"
    }
   ],
   "source": [
    "bnum_for_snum_dict"
   ]
  },
  {
   "cell_type": "code",
   "execution_count": 25,
   "metadata": {
    "collapsed": false,
    "deletable": true,
    "editable": true
   },
   "outputs": [
    {
     "data": {
      "text/plain": [
       "True"
      ]
     },
     "execution_count": 25,
     "metadata": {},
     "output_type": "execute_result"
    }
   ],
   "source": [
    "'1000' in bnum_for_snum_dict"
   ]
  },
  {
   "cell_type": "code",
   "execution_count": 102,
   "metadata": {
    "collapsed": false,
    "deletable": true,
    "editable": true
   },
   "outputs": [
    {
     "ename": "CalledProcessError",
     "evalue": "Command 'process_DTI_brain E3713/15 t6630' returned non-zero exit status 1.",
     "output_type": "error",
     "traceback": [
      "\u001b[0;31m---------------------------------------------------------------------------\u001b[0m",
      "\u001b[0;31mCalledProcessError\u001b[0m                        Traceback (most recent call last)",
      "\u001b[0;32m<ipython-input-102-27d528e40d26>\u001b[0m in \u001b[0;36m<module>\u001b[0;34m()\u001b[0m\n\u001b[0;32m----> 1\u001b[0;31m \u001b[0msub\u001b[0m\u001b[0;34m.\u001b[0m\u001b[0mcheck_output\u001b[0m\u001b[0;34m(\u001b[0m\u001b[0mproc_DTI_b1000_command\u001b[0m\u001b[0;34m,\u001b[0m \u001b[0mshell\u001b[0m \u001b[0;34m=\u001b[0m \u001b[0;32mTrue\u001b[0m\u001b[0;34m)\u001b[0m\u001b[0;34m\u001b[0m\u001b[0m\n\u001b[0m",
      "\u001b[0;32m~/.conda/envs/py36R/lib/python3.6/subprocess.py\u001b[0m in \u001b[0;36mcheck_output\u001b[0;34m(timeout, *popenargs, **kwargs)\u001b[0m\n\u001b[1;32m    334\u001b[0m \u001b[0;34m\u001b[0m\u001b[0m\n\u001b[1;32m    335\u001b[0m     return run(*popenargs, stdout=PIPE, timeout=timeout, check=True,\n\u001b[0;32m--> 336\u001b[0;31m                **kwargs).stdout\n\u001b[0m\u001b[1;32m    337\u001b[0m \u001b[0;34m\u001b[0m\u001b[0m\n\u001b[1;32m    338\u001b[0m \u001b[0;34m\u001b[0m\u001b[0m\n",
      "\u001b[0;32m~/.conda/envs/py36R/lib/python3.6/subprocess.py\u001b[0m in \u001b[0;36mrun\u001b[0;34m(input, timeout, check, *popenargs, **kwargs)\u001b[0m\n\u001b[1;32m    416\u001b[0m         \u001b[0;32mif\u001b[0m \u001b[0mcheck\u001b[0m \u001b[0;32mand\u001b[0m \u001b[0mretcode\u001b[0m\u001b[0;34m:\u001b[0m\u001b[0;34m\u001b[0m\u001b[0m\n\u001b[1;32m    417\u001b[0m             raise CalledProcessError(retcode, process.args,\n\u001b[0;32m--> 418\u001b[0;31m                                      output=stdout, stderr=stderr)\n\u001b[0m\u001b[1;32m    419\u001b[0m     \u001b[0;32mreturn\u001b[0m \u001b[0mCompletedProcess\u001b[0m\u001b[0;34m(\u001b[0m\u001b[0mprocess\u001b[0m\u001b[0;34m.\u001b[0m\u001b[0margs\u001b[0m\u001b[0;34m,\u001b[0m \u001b[0mretcode\u001b[0m\u001b[0;34m,\u001b[0m \u001b[0mstdout\u001b[0m\u001b[0;34m,\u001b[0m \u001b[0mstderr\u001b[0m\u001b[0;34m)\u001b[0m\u001b[0;34m\u001b[0m\u001b[0m\n\u001b[1;32m    420\u001b[0m \u001b[0;34m\u001b[0m\u001b[0m\n",
      "\u001b[0;31mCalledProcessError\u001b[0m: Command 'process_DTI_brain E3713/15 t6630' returned non-zero exit status 1."
     ]
    }
   ],
   "source": []
  },
  {
   "cell_type": "code",
   "execution_count": null,
   "metadata": {
    "collapsed": true,
    "deletable": true,
    "editable": true
   },
   "outputs": [],
   "source": []
  }
 ],
 "metadata": {
  "kernelspec": {
   "display_name": "python36",
   "language": "python",
   "name": "python36"
  },
  "language_info": {
   "codemirror_mode": {
    "name": "ipython",
    "version": 3
   },
   "file_extension": ".py",
   "mimetype": "text/x-python",
   "name": "python",
   "nbconvert_exporter": "python",
   "pygments_lexer": "ipython3",
   "version": "3.6.2"
  }
 },
 "nbformat": 4,
 "nbformat_minor": 2
}
