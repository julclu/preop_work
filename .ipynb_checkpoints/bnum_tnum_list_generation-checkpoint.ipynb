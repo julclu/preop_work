{
 "cells": [
  {
   "cell_type": "code",
   "execution_count": 2,
   "metadata": {
    "collapsed": true,
    "deletable": true,
    "editable": true
   },
   "outputs": [],
   "source": [
    "recgli_old = read.csv(\"/home/sf673542/DataWrangling/GetMergeData/July2018/researchpath_withInVivo_oldP01_updatedPERF.apr21.csv\")"
   ]
  },
  {
   "cell_type": "code",
   "execution_count": 3,
   "metadata": {
    "collapsed": true,
    "deletable": true,
    "editable": true
   },
   "outputs": [],
   "source": [
    "bnum_tnum = recgli_old[, c('b_number', 't_number')]"
   ]
  },
  {
   "cell_type": "code",
   "execution_count": 4,
   "metadata": {
    "collapsed": false,
    "deletable": true,
    "editable": true
   },
   "outputs": [],
   "source": [
    "bnum_tnum[,'b_number']=paste('b', bnum_tnum[,'b_number'], sep=\"\")"
   ]
  },
  {
   "cell_type": "code",
   "execution_count": 5,
   "metadata": {
    "collapsed": true,
    "deletable": true,
    "editable": true
   },
   "outputs": [],
   "source": [
    "bnum_tnum[,'t_number']=paste('t', bnum_tnum[,'t_number'], sep=\"\")"
   ]
  },
  {
   "cell_type": "code",
   "execution_count": 6,
   "metadata": {
    "collapsed": false,
    "deletable": true,
    "editable": true
   },
   "outputs": [
    {
     "data": {
      "text/html": [
       "<ol class=list-inline>\n",
       "\t<li>316</li>\n",
       "\t<li>2</li>\n",
       "</ol>\n"
      ],
      "text/latex": [
       "\\begin{enumerate*}\n",
       "\\item 316\n",
       "\\item 2\n",
       "\\end{enumerate*}\n"
      ],
      "text/markdown": [
       "1. 316\n",
       "2. 2\n",
       "\n",
       "\n"
      ],
      "text/plain": [
       "[1] 316   2"
      ]
     },
     "metadata": {},
     "output_type": "display_data"
    }
   ],
   "source": [
    "dim(bnum_tnum)"
   ]
  },
  {
   "cell_type": "code",
   "execution_count": 7,
   "metadata": {
    "collapsed": false,
    "deletable": true,
    "editable": true
   },
   "outputs": [
    {
     "data": {
      "text/plain": [
       "\n",
       "FALSE  TRUE \n",
       "  129   187 "
      ]
     },
     "metadata": {},
     "output_type": "display_data"
    }
   ],
   "source": [
    "table(duplicated(bnum_tnum$t_number))"
   ]
  },
  {
   "cell_type": "code",
   "execution_count": 8,
   "metadata": {
    "collapsed": true,
    "deletable": true,
    "editable": true
   },
   "outputs": [],
   "source": [
    "bnum_tnum_nodup = bnum_tnum[!duplicated(bnum_tnum$t_number),]"
   ]
  },
  {
   "cell_type": "code",
   "execution_count": 9,
   "metadata": {
    "collapsed": false,
    "deletable": true,
    "editable": true
   },
   "outputs": [
    {
     "data": {
      "text/html": [
       "<ol class=list-inline>\n",
       "\t<li>129</li>\n",
       "\t<li>2</li>\n",
       "</ol>\n"
      ],
      "text/latex": [
       "\\begin{enumerate*}\n",
       "\\item 129\n",
       "\\item 2\n",
       "\\end{enumerate*}\n"
      ],
      "text/markdown": [
       "1. 129\n",
       "2. 2\n",
       "\n",
       "\n"
      ],
      "text/plain": [
       "[1] 129   2"
      ]
     },
     "metadata": {},
     "output_type": "display_data"
    }
   ],
   "source": [
    "dim(bnum_tnum_nodup)"
   ]
  },
  {
   "cell_type": "code",
   "execution_count": 10,
   "metadata": {
    "collapsed": true,
    "deletable": true,
    "editable": true
   },
   "outputs": [],
   "source": [
    "bnum_tnum_nodup = data.frame(bnum_tnum_nodup, DUMMY = \"DUMMY\")"
   ]
  },
  {
   "cell_type": "code",
   "execution_count": 11,
   "metadata": {
    "collapsed": false,
    "deletable": true,
    "editable": true
   },
   "outputs": [],
   "source": [
    "write.table(bnum_tnum_nodup, file = \"po1_preop_recur_bnum_tnum_list.129.csv\", row.names = F, quote = F, sep=\",\", col.names = F)"
   ]
  },
  {
   "cell_type": "code",
   "execution_count": 12,
   "metadata": {
    "collapsed": false,
    "deletable": true,
    "editable": true
   },
   "outputs": [],
   "source": [
    "write.table(bnum_tnum_nodup[1:3,], file = \"test_bnum_tnum_list.3.csv\", row.names = F, quote = F, sep = \",\", col.names = F)"
   ]
  },
  {
   "cell_type": "code",
   "execution_count": 13,
   "metadata": {
    "collapsed": false,
    "deletable": true,
    "editable": true
   },
   "outputs": [
    {
     "data": {
      "text/html": [
       "<table>\n",
       "<thead><tr><th></th><th scope=col>b_number</th><th scope=col>t_number</th><th scope=col>DUMMY</th></tr></thead>\n",
       "<tbody>\n",
       "\t<tr><th scope=row>24</th><td>b963 </td><td>t6069</td><td>DUMMY</td></tr>\n",
       "\t<tr><th scope=row>114</th><td>b697 </td><td>t5333</td><td>DUMMY</td></tr>\n",
       "\t<tr><th scope=row>270</th><td>b994 </td><td>t6418</td><td>DUMMY</td></tr>\n",
       "\t<tr><th scope=row>292</th><td>b197 </td><td>t6243</td><td>DUMMY</td></tr>\n",
       "</tbody>\n",
       "</table>\n"
      ],
      "text/latex": [
       "\\begin{tabular}{r|lll}\n",
       "  & b\\_number & t\\_number & DUMMY\\\\\n",
       "\\hline\n",
       "\t24 & b963  & t6069 & DUMMY\\\\\n",
       "\t114 & b697  & t5333 & DUMMY\\\\\n",
       "\t270 & b994  & t6418 & DUMMY\\\\\n",
       "\t292 & b197  & t6243 & DUMMY\\\\\n",
       "\\end{tabular}\n"
      ],
      "text/markdown": [
       "\n",
       "| <!--/--> | b_number | t_number | DUMMY | \n",
       "|---|---|---|---|\n",
       "| 24 | b963  | t6069 | DUMMY | \n",
       "| 114 | b697  | t5333 | DUMMY | \n",
       "| 270 | b994  | t6418 | DUMMY | \n",
       "| 292 | b197  | t6243 | DUMMY | \n",
       "\n",
       "\n"
      ],
      "text/plain": [
       "    b_number t_number DUMMY\n",
       "24  b963     t6069    DUMMY\n",
       "114 b697     t5333    DUMMY\n",
       "270 b994     t6418    DUMMY\n",
       "292 b197     t6243    DUMMY"
      ]
     },
     "metadata": {},
     "output_type": "display_data"
    }
   ],
   "source": [
    "bnum_tnum_nodup[nchar(bnum_tnum_nodup$b_number)<5,]"
   ]
  },
  {
   "cell_type": "code",
   "execution_count": 14,
   "metadata": {
    "collapsed": false,
    "deletable": true,
    "editable": true
   },
   "outputs": [],
   "source": [
    "bnums_to_fix = bnum_tnum_nodup[nchar(bnum_tnum_nodup$b_number)<5,]$b_number "
   ]
  },
  {
   "cell_type": "code",
   "execution_count": 15,
   "metadata": {
    "collapsed": false,
    "deletable": true,
    "editable": true
   },
   "outputs": [],
   "source": [
    "bnums_fixed = gsub('^(.{1})(.*)$', '\\\\10\\\\2', bnums_to_fix)\n"
   ]
  },
  {
   "cell_type": "code",
   "execution_count": 16,
   "metadata": {
    "collapsed": false,
    "deletable": true,
    "editable": true
   },
   "outputs": [
    {
     "data": {
      "text/html": [
       "<ol class=list-inline>\n",
       "\t<li>'b0963'</li>\n",
       "\t<li>'b0697'</li>\n",
       "\t<li>'b0994'</li>\n",
       "\t<li>'b0197'</li>\n",
       "</ol>\n"
      ],
      "text/latex": [
       "\\begin{enumerate*}\n",
       "\\item 'b0963'\n",
       "\\item 'b0697'\n",
       "\\item 'b0994'\n",
       "\\item 'b0197'\n",
       "\\end{enumerate*}\n"
      ],
      "text/markdown": [
       "1. 'b0963'\n",
       "2. 'b0697'\n",
       "3. 'b0994'\n",
       "4. 'b0197'\n",
       "\n",
       "\n"
      ],
      "text/plain": [
       "[1] \"b0963\" \"b0697\" \"b0994\" \"b0197\""
      ]
     },
     "metadata": {},
     "output_type": "display_data"
    }
   ],
   "source": [
    "bnums_fixed"
   ]
  },
  {
   "cell_type": "code",
   "execution_count": 17,
   "metadata": {
    "collapsed": true,
    "deletable": true,
    "editable": true
   },
   "outputs": [],
   "source": [
    "bnum_tnum_nodup[nchar(bnum_tnum_nodup$b_number)<5,]$b_number = bnums_fixed"
   ]
  },
  {
   "cell_type": "code",
   "execution_count": 18,
   "metadata": {
    "collapsed": false,
    "deletable": true,
    "editable": true
   },
   "outputs": [
    {
     "data": {
      "text/html": [
       "<table>\n",
       "<thead><tr><th></th><th scope=col>b_number</th><th scope=col>t_number</th><th scope=col>DUMMY</th></tr></thead>\n",
       "<tbody>\n",
       "\t<tr><th scope=row>24</th><td>b0963</td><td>t6069</td><td>DUMMY</td></tr>\n",
       "\t<tr><th scope=row>114</th><td>b0697</td><td>t5333</td><td>DUMMY</td></tr>\n",
       "\t<tr><th scope=row>270</th><td>b0994</td><td>t6418</td><td>DUMMY</td></tr>\n",
       "\t<tr><th scope=row>292</th><td>b0197</td><td>t6243</td><td>DUMMY</td></tr>\n",
       "</tbody>\n",
       "</table>\n"
      ],
      "text/latex": [
       "\\begin{tabular}{r|lll}\n",
       "  & b\\_number & t\\_number & DUMMY\\\\\n",
       "\\hline\n",
       "\t24 & b0963 & t6069 & DUMMY\\\\\n",
       "\t114 & b0697 & t5333 & DUMMY\\\\\n",
       "\t270 & b0994 & t6418 & DUMMY\\\\\n",
       "\t292 & b0197 & t6243 & DUMMY\\\\\n",
       "\\end{tabular}\n"
      ],
      "text/markdown": [
       "\n",
       "| <!--/--> | b_number | t_number | DUMMY | \n",
       "|---|---|---|---|\n",
       "| 24 | b0963 | t6069 | DUMMY | \n",
       "| 114 | b0697 | t5333 | DUMMY | \n",
       "| 270 | b0994 | t6418 | DUMMY | \n",
       "| 292 | b0197 | t6243 | DUMMY | \n",
       "\n",
       "\n"
      ],
      "text/plain": [
       "    b_number t_number DUMMY\n",
       "24  b0963    t6069    DUMMY\n",
       "114 b0697    t5333    DUMMY\n",
       "270 b0994    t6418    DUMMY\n",
       "292 b0197    t6243    DUMMY"
      ]
     },
     "metadata": {},
     "output_type": "display_data"
    }
   ],
   "source": [
    "bnum_tnum_nodup[bnum_tnum_nodup$b_number %in% bnums_fixed,]"
   ]
  },
  {
   "cell_type": "code",
   "execution_count": 19,
   "metadata": {
    "collapsed": true,
    "deletable": true,
    "editable": true
   },
   "outputs": [],
   "source": []
  },
  {
   "cell_type": "code",
   "execution_count": 54,
   "metadata": {
    "collapsed": false,
    "deletable": true,
    "editable": true
   },
   "outputs": [],
   "source": [
    "## actually going to split this into 13 different bnum_tnum lists\n",
    "## so they can be run in parallel \n",
    "## rather than taking 2 days, should only take about 4 hours"
   ]
  },
  {
   "cell_type": "code",
   "execution_count": 55,
   "metadata": {
    "collapsed": false,
    "deletable": true,
    "editable": true
   },
   "outputs": [],
   "source": [
    "write.table(bnum_tnum_nodup[1:10,], file = \"po1_preop_recur_bnum_tnum_list1.10.csv\", row.names = F, quote = F, sep=\",\", col.names = F)\n",
    "write.table(bnum_tnum_nodup[11:20,], file = \"po1_preop_recur_bnum_tnum_list2.10.csv\", row.names = F, quote = F, sep=\",\", col.names = F)\n",
    "write.table(bnum_tnum_nodup[21:30,], file = \"po1_preop_recur_bnum_tnum_list3.10.csv\", row.names = F, quote = F, sep=\",\", col.names = F)\n",
    "write.table(bnum_tnum_nodup[31:40,], file = \"po1_preop_recur_bnum_tnum_list4.10.csv\", row.names = F, quote = F, sep=\",\", col.names = F)\n",
    "write.table(bnum_tnum_nodup[40:51,], file = \"po1_preop_recur_bnum_tnum_list5.10.csv\", row.names = F, quote = F, sep=\",\", col.names = F)\n",
    "write.table(bnum_tnum_nodup[51:60,], file = \"po1_preop_recur_bnum_tnum_list6.10.csv\", row.names = F, quote = F, sep=\",\", col.names = F)\n",
    "write.table(bnum_tnum_nodup[61:70,], file = \"po1_preop_recur_bnum_tnum_list7.10.csv\", row.names = F, quote = F, sep=\",\", col.names = F)\n",
    "write.table(bnum_tnum_nodup[71:80,], file = \"po1_preop_recur_bnum_tnum_list8.10.csv\", row.names = F, quote = F, sep=\",\", col.names = F)\n",
    "write.table(bnum_tnum_nodup[81:90,], file = \"po1_preop_recur_bnum_tnum_list9.10.csv\", row.names = F, quote = F, sep=\",\", col.names = F)\n",
    "write.table(bnum_tnum_nodup[91:100,], file = \"po1_preop_recur_bnum_tnum_list10.10.csv\", row.names = F, quote = F, sep=\",\", col.names = F)\n",
    "write.table(bnum_tnum_nodup[101:110,], file = \"po1_preop_recur_bnum_tnum_list11.10.csv\", row.names = F, quote = F, sep=\",\", col.names = F)\n",
    "write.table(bnum_tnum_nodup[111:120,], file = \"po1_preop_recur_bnum_tnum_list12.10.csv\", row.names = F, quote = F, sep=\",\", col.names = F)\n",
    "write.table(bnum_tnum_nodup[120:129,], file = \"po1_preop_recur_bnum_tnum_list13.10.csv\", row.names = F, quote = F, sep=\",\", col.names = F)\n"
   ]
  },
  {
   "cell_type": "code",
   "execution_count": 21,
   "metadata": {
    "collapsed": false,
    "deletable": true,
    "editable": true
   },
   "outputs": [],
   "source": [
    "write.table(bnum_tnum_nodup[31:40,], file = \"po1_preop_recur_bnum_tnum_list4.10.csv\", row.names = F, quote = F, sep=\",\", col.names = F)\n"
   ]
  },
  {
   "cell_type": "code",
   "execution_count": null,
   "metadata": {
    "collapsed": true
   },
   "outputs": [],
   "source": []
  }
 ],
 "metadata": {
  "kernelspec": {
   "display_name": "R",
   "language": "R",
   "name": "ir"
  },
  "language_info": {
   "codemirror_mode": "r",
   "file_extension": ".r",
   "mimetype": "text/x-r-source",
   "name": "R",
   "pygments_lexer": "r",
   "version": "3.4.0"
  }
 },
 "nbformat": 4,
 "nbformat_minor": 2
}
