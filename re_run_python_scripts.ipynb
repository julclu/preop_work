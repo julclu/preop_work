{
 "cells": [
  {
   "cell_type": "code",
   "execution_count": 17,
   "metadata": {
    "collapsed": true
   },
   "outputs": [],
   "source": [
    "import os\n",
    "import glob\n",
    "import pandas as pd"
   ]
  },
  {
   "cell_type": "code",
   "execution_count": 2,
   "metadata": {
    "collapsed": false
   },
   "outputs": [
    {
     "data": {
      "text/plain": [
       "'/home/sf673542/preop_convert_work'"
      ]
     },
     "execution_count": 2,
     "metadata": {},
     "output_type": "execute_result"
    }
   ],
   "source": [
    "os.getcwd()"
   ]
  },
  {
   "cell_type": "code",
   "execution_count": 3,
   "metadata": {
    "collapsed": true
   },
   "outputs": [],
   "source": [
    "os.chdir('/data/RECglioma/archived')"
   ]
  },
  {
   "cell_type": "code",
   "execution_count": 9,
   "metadata": {
    "collapsed": false
   },
   "outputs": [],
   "source": [
    "Enums_in_archived = glob.glob('*/*/E*')"
   ]
  },
  {
   "cell_type": "code",
   "execution_count": 21,
   "metadata": {
    "collapsed": false
   },
   "outputs": [
    {
     "data": {
      "text/plain": [
       "['b2312/t5317/E5317',\n",
       " 'b2262/t6891/E3064',\n",
       " 'b3234/t7741/E6747',\n",
       " 'b2871/t6707/E1942',\n",
       " 'b2901/t8089/E2828',\n",
       " 'b2710/t6297/E9529',\n",
       " 'b2939/t7527/E13259',\n",
       " 'b2419/t5681/E6549',\n",
       " 'b2834/t6604/E13622',\n",
       " 'b1257/t6206/E8969',\n",
       " 'b2445/t6472/E9437',\n",
       " 'b1487/t7001/E14869',\n",
       " 'b2709/t8098/E287054536',\n",
       " 'b2709/t6296/E9526',\n",
       " 'b2679/t6241/E9191',\n",
       " 'b2850/t7016/E2339',\n",
       " 'b2570/t6405/E829',\n",
       " 'b1556/t5535/E5880',\n",
       " 'b2593/t7710/E6554',\n",
       " 'b3182/t7768/E14588',\n",
       " 'b1514/t7555/E13378',\n",
       " 'b994/t6418/E4302',\n",
       " 'b2395/t5610/E9167',\n",
       " 'b2292/t6929/E11070',\n",
       " 'b2717/t6313/E525',\n",
       " 'b2350/t5538/E5914',\n",
       " 'b2667/t8085/E1525',\n",
       " 'b2451/t5739/E340',\n",
       " 'b963/t6069/E2222',\n",
       " 'b2218/t5656/E6926',\n",
       " 'b2552/t6894/E8451',\n",
       " 'b2872/t6708/E13700',\n",
       " 'b2382/t5577/E9100',\n",
       " 'b1693/t5550/E17013',\n",
       " 'b1340/t5361/E5595',\n",
       " 'b2388/t6152/E8255',\n",
       " 'b1866/t5682/E6553',\n",
       " 'b2483/t5819/E7221',\n",
       " 'b2517/t5882/E7241',\n",
       " 'b3171/t7553/E5552',\n",
       " 'b2764/t6436/E1104',\n",
       " 'b2988/t7039/E4835',\n",
       " 'b2272/t5730/E17394',\n",
       " 'b2474/t7408/E4845',\n",
       " 'b2777/t6671/E10142',\n",
       " 'b3012/t7111/E4042',\n",
       " 'b3186/t7600/E5913',\n",
       " 'b2330/t6306/E9562',\n",
       " 'b2793/t6870/E10835',\n",
       " 'b2793/t7584/E13602',\n",
       " 'b2693/t6274/E365',\n",
       " 'b3118/t7394/E12582',\n",
       " 'b3112/t7382/E9745',\n",
       " 'b2202/t5788/E7051',\n",
       " 'b2378/t6128/E18658',\n",
       " 'b2071/t6148/E1502',\n",
       " 'b2436/t5701/E9353',\n",
       " 'b2769/t7225/E4097',\n",
       " 'b2769/t6858/E10752',\n",
       " 'b2359/t7015/E5127',\n",
       " 'b2229/t5296/E16327',\n",
       " 'b2417/t5680/E6548',\n",
       " 'b2847/t6630/E3713',\n",
       " 'b2808/t6551/E1510',\n",
       " 'b2452/t6295/E9528',\n",
       " 'b2118/t6260/E9309',\n",
       " 'b2415/t5668/E63',\n",
       " 'b1814/t7776/E7783',\n",
       " 'b2994/t7055/E11318',\n",
       " 'b3131/t7417/E12687',\n",
       " 'b2592/t7451/E5041',\n",
       " 'b2406/t5970/E7641',\n",
       " 'b1788/t7028/E8774',\n",
       " 'b2647/t6144/E8497',\n",
       " 'b3155/t7484/E5198',\n",
       " 'b1256/t5728/E9413',\n",
       " 'b1256/t7043/E3711',\n",
       " 'b2863/t6682/E10200',\n",
       " 'b2534/t6367/E3228',\n",
       " 'b2775/t6473/E4594',\n",
       " 'b2678/t6240/E226',\n",
       " 'b2791/t6556/E1515',\n",
       " 'b2571/t7444/E5009',\n",
       " 'b2476/t6285/E9445',\n",
       " 'b2723/t6369/E8837',\n",
       " 'b2313/t6147/E288',\n",
       " 'b2089/t5766/E6954',\n",
       " 'b3197/t7628/E6807',\n",
       " 'b697/t5333/E6150',\n",
       " 'b2586/t6038/E8001',\n",
       " 'b2842/t6619/E9968',\n",
       " 'b3207/t7658/E7005',\n",
       " 'b3207/t7658/E7006',\n",
       " 'b2358/t5272/E5097',\n",
       " 'b2222/t6094/E6927',\n",
       " 'b2156/t6127/E17269',\n",
       " 'b2360/t6114/E19470',\n",
       " 'b2360/t5365/E9204',\n",
       " 'b2384/t5603/E6202',\n",
       " 'b2113/t4966/E7972',\n",
       " 'b2771/t6865/E8380',\n",
       " 'b2145/t6586/E1622',\n",
       " 'b2274/t6386/E9006',\n",
       " 'b2379/t5950/E7543',\n",
       " 'b2960/t7759/E7698',\n",
       " 'b2437/t5880/E9777',\n",
       " 'b2273/t5934/E8399',\n",
       " 'b2578/t6826/E10658',\n",
       " 'b2671/t6218/E9055',\n",
       " 'b3169/t7540/E6204',\n",
       " 'b2553/t5961/E7621',\n",
       " 'b2873/t6709/E2138',\n",
       " 'b2903/t6771/E10515',\n",
       " 'b2757/t6415/E1008',\n",
       " 'b2561/t5980/E7694',\n",
       " 'b2488/t6522/E1470',\n",
       " 'b2466/t5944/E7485',\n",
       " 'b2712/t6304/E9551',\n",
       " 'b2781/t6495/E1227']"
      ]
     },
     "execution_count": 21,
     "metadata": {},
     "output_type": "execute_result"
    }
   ],
   "source": [
    "Enums_in_archived"
   ]
  },
  {
   "cell_type": "code",
   "execution_count": 11,
   "metadata": {
    "collapsed": true
   },
   "outputs": [],
   "source": [
    "i = 0"
   ]
  },
  {
   "cell_type": "code",
   "execution_count": 16,
   "metadata": {
    "collapsed": false
   },
   "outputs": [
    {
     "data": {
      "text/plain": [
       "['b2312/t5317/E5317/3',\n",
       " 'b2312/t5317/E5317/9',\n",
       " 'b2312/t5317/E5317/4',\n",
       " 'b2312/t5317/E5317/7',\n",
       " 'b2312/t5317/E5317/5',\n",
       " 'b2312/t5317/E5317/8',\n",
       " 'b2312/t5317/E5317/2',\n",
       " 'b2312/t5317/E5317/6',\n",
       " 'b2312/t5317/E5317/1']"
      ]
     },
     "execution_count": 16,
     "metadata": {},
     "output_type": "execute_result"
    }
   ],
   "source": [
    "glob.glob(Enums_in_archived[i]+\"/*\")"
   ]
  },
  {
   "cell_type": "code",
   "execution_count": 19,
   "metadata": {
    "collapsed": false
   },
   "outputs": [],
   "source": [
    "Enums_df = pd.DataFrame(Enums_in_archived)"
   ]
  },
  {
   "cell_type": "code",
   "execution_count": 24,
   "metadata": {
    "collapsed": false
   },
   "outputs": [],
   "source": [
    "snums = [glob.glob(enum+\"/*\") for enum in Enums_in_archived]"
   ]
  },
  {
   "cell_type": "code",
   "execution_count": 26,
   "metadata": {
    "collapsed": false
   },
   "outputs": [],
   "source": [
    "Enums_df['snums']=snums"
   ]
  },
  {
   "cell_type": "code",
   "execution_count": 27,
   "metadata": {
    "collapsed": false
   },
   "outputs": [
    {
     "data": {
      "text/plain": [
       "(119, 2)"
      ]
     },
     "execution_count": 27,
     "metadata": {},
     "output_type": "execute_result"
    }
   ],
   "source": [
    "Enums_df.shape"
   ]
  },
  {
   "cell_type": "code",
   "execution_count": 44,
   "metadata": {
    "collapsed": false
   },
   "outputs": [],
   "source": [
    "length_snums = [len(snum) for snum in snums]"
   ]
  },
  {
   "cell_type": "code",
   "execution_count": 46,
   "metadata": {
    "collapsed": false
   },
   "outputs": [],
   "source": [
    "Enums_df['length_snums']=[len(snum) for snum in Enums_df['snums']]"
   ]
  },
  {
   "cell_type": "code",
   "execution_count": 51,
   "metadata": {
    "collapsed": false
   },
   "outputs": [
    {
     "data": {
      "text/html": [
       "<div>\n",
       "<style>\n",
       "    .dataframe thead tr:only-child th {\n",
       "        text-align: right;\n",
       "    }\n",
       "\n",
       "    .dataframe thead th {\n",
       "        text-align: left;\n",
       "    }\n",
       "\n",
       "    .dataframe tbody tr th {\n",
       "        vertical-align: top;\n",
       "    }\n",
       "</style>\n",
       "<table border=\"1\" class=\"dataframe\">\n",
       "  <thead>\n",
       "    <tr style=\"text-align: right;\">\n",
       "      <th></th>\n",
       "      <th>0</th>\n",
       "      <th>snums</th>\n",
       "      <th>length_snums</th>\n",
       "    </tr>\n",
       "  </thead>\n",
       "  <tbody>\n",
       "    <tr>\n",
       "      <th>0</th>\n",
       "      <td>b2312/t5317/E5317</td>\n",
       "      <td>[b2312/t5317/E5317/3, b2312/t5317/E5317/9, b23...</td>\n",
       "      <td>9</td>\n",
       "    </tr>\n",
       "    <tr>\n",
       "      <th>5</th>\n",
       "      <td>b2710/t6297/E9529</td>\n",
       "      <td>[b2710/t6297/E9529/3, b2710/t6297/E9529/4, b27...</td>\n",
       "      <td>9</td>\n",
       "    </tr>\n",
       "    <tr>\n",
       "      <th>9</th>\n",
       "      <td>b1257/t6206/E8969</td>\n",
       "      <td>[b1257/t6206/E8969/1, b1257/t6206/E8969/6, b12...</td>\n",
       "      <td>9</td>\n",
       "    </tr>\n",
       "    <tr>\n",
       "      <th>12</th>\n",
       "      <td>b2709/t8098/E287054536</td>\n",
       "      <td>[b2709/t8098/E287054536/301, b2709/t8098/E2870...</td>\n",
       "      <td>4</td>\n",
       "    </tr>\n",
       "    <tr>\n",
       "      <th>22</th>\n",
       "      <td>b2395/t5610/E9167</td>\n",
       "      <td>[b2395/t5610/E9167/3, b2395/t5610/E9167/10, b2...</td>\n",
       "      <td>5</td>\n",
       "    </tr>\n",
       "    <tr>\n",
       "      <th>25</th>\n",
       "      <td>b2350/t5538/E5914</td>\n",
       "      <td>[b2350/t5538/E5914/9, b2350/t5538/E5914/11, b2...</td>\n",
       "      <td>9</td>\n",
       "    </tr>\n",
       "    <tr>\n",
       "      <th>35</th>\n",
       "      <td>b2388/t6152/E8255</td>\n",
       "      <td>[b2388/t6152/E8255/3, b2388/t6152/E8255/4, b23...</td>\n",
       "      <td>5</td>\n",
       "    </tr>\n",
       "    <tr>\n",
       "      <th>44</th>\n",
       "      <td>b2777/t6671/E10142</td>\n",
       "      <td>[b2777/t6671/E10142/1, b2777/t6671/E10142/6, b...</td>\n",
       "      <td>8</td>\n",
       "    </tr>\n",
       "    <tr>\n",
       "      <th>47</th>\n",
       "      <td>b2330/t6306/E9562</td>\n",
       "      <td>[b2330/t6306/E9562/7211_1, b2330/t6306/E9562/7...</td>\n",
       "      <td>5</td>\n",
       "    </tr>\n",
       "    <tr>\n",
       "      <th>60</th>\n",
       "      <td>b2229/t5296/E16327</td>\n",
       "      <td>[b2229/t5296/E16327/4, b2229/t5296/E16327/3, b...</td>\n",
       "      <td>7</td>\n",
       "    </tr>\n",
       "    <tr>\n",
       "      <th>64</th>\n",
       "      <td>b2452/t6295/E9528</td>\n",
       "      <td>[b2452/t6295/E9528/4, b2452/t6295/E9528/11, b2...</td>\n",
       "      <td>5</td>\n",
       "    </tr>\n",
       "    <tr>\n",
       "      <th>65</th>\n",
       "      <td>b2118/t6260/E9309</td>\n",
       "      <td>[b2118/t6260/E9309/2, b2118/t6260/E9309/5, b21...</td>\n",
       "      <td>9</td>\n",
       "    </tr>\n",
       "    <tr>\n",
       "      <th>72</th>\n",
       "      <td>b1788/t7028/E8774</td>\n",
       "      <td>[b1788/t7028/E8774/9, b1788/t7028/E8774/10, b1...</td>\n",
       "      <td>5</td>\n",
       "    </tr>\n",
       "    <tr>\n",
       "      <th>76</th>\n",
       "      <td>b1256/t7043/E3711</td>\n",
       "      <td>[b1256/t7043/E3711/4, b1256/t7043/E3711/3, b12...</td>\n",
       "      <td>7</td>\n",
       "    </tr>\n",
       "    <tr>\n",
       "      <th>78</th>\n",
       "      <td>b2534/t6367/E3228</td>\n",
       "      <td>[b2534/t6367/E3228/301, b2534/t6367/E3228/6, b...</td>\n",
       "      <td>6</td>\n",
       "    </tr>\n",
       "    <tr>\n",
       "      <th>89</th>\n",
       "      <td>b2586/t6038/E8001</td>\n",
       "      <td>[b2586/t6038/E8001/7211]</td>\n",
       "      <td>1</td>\n",
       "    </tr>\n",
       "    <tr>\n",
       "      <th>90</th>\n",
       "      <td>b2842/t6619/E9968</td>\n",
       "      <td>[b2842/t6619/E9968/1, b2842/t6619/E9968/8, b28...</td>\n",
       "      <td>8</td>\n",
       "    </tr>\n",
       "    <tr>\n",
       "      <th>91</th>\n",
       "      <td>b3207/t7658/E7005</td>\n",
       "      <td>[b3207/t7658/E7005/4]</td>\n",
       "      <td>1</td>\n",
       "    </tr>\n",
       "    <tr>\n",
       "      <th>95</th>\n",
       "      <td>b2156/t6127/E17269</td>\n",
       "      <td>[b2156/t6127/E17269/1, b2156/t6127/E17269/6, b...</td>\n",
       "      <td>8</td>\n",
       "    </tr>\n",
       "    <tr>\n",
       "      <th>96</th>\n",
       "      <td>b2360/t6114/E19470</td>\n",
       "      <td>[b2360/t6114/E19470/7, b2360/t6114/E19470/4, b...</td>\n",
       "      <td>8</td>\n",
       "    </tr>\n",
       "    <tr>\n",
       "      <th>102</th>\n",
       "      <td>b2274/t6386/E9006</td>\n",
       "      <td>[b2274/t6386/E9006/6, b2274/t6386/E9006/5, b22...</td>\n",
       "      <td>3</td>\n",
       "    </tr>\n",
       "    <tr>\n",
       "      <th>103</th>\n",
       "      <td>b2379/t5950/E7543</td>\n",
       "      <td>[b2379/t5950/E7543/1, b2379/t5950/E7543/6, b23...</td>\n",
       "      <td>5</td>\n",
       "    </tr>\n",
       "    <tr>\n",
       "      <th>105</th>\n",
       "      <td>b2437/t5880/E9777</td>\n",
       "      <td>[b2437/t5880/E9777/12, b2437/t5880/E9777/11, b...</td>\n",
       "      <td>4</td>\n",
       "    </tr>\n",
       "    <tr>\n",
       "      <th>106</th>\n",
       "      <td>b2273/t5934/E8399</td>\n",
       "      <td>[b2273/t5934/E8399/5, b2273/t5934/E8399/2, b22...</td>\n",
       "      <td>5</td>\n",
       "    </tr>\n",
       "    <tr>\n",
       "      <th>107</th>\n",
       "      <td>b2578/t6826/E10658</td>\n",
       "      <td>[b2578/t6826/E10658/900, b2578/t6826/E10658/90...</td>\n",
       "      <td>3</td>\n",
       "    </tr>\n",
       "    <tr>\n",
       "      <th>111</th>\n",
       "      <td>b2873/t6709/E2138</td>\n",
       "      <td>[b2873/t6709/E2138/600, b2873/t6709/E2138/7, b...</td>\n",
       "      <td>9</td>\n",
       "    </tr>\n",
       "    <tr>\n",
       "      <th>117</th>\n",
       "      <td>b2712/t6304/E9551</td>\n",
       "      <td>[b2712/t6304/E9551/7211, b2712/t6304/E9551/721...</td>\n",
       "      <td>4</td>\n",
       "    </tr>\n",
       "  </tbody>\n",
       "</table>\n",
       "</div>"
      ],
      "text/plain": [
       "                          0  \\\n",
       "0         b2312/t5317/E5317   \n",
       "5         b2710/t6297/E9529   \n",
       "9         b1257/t6206/E8969   \n",
       "12   b2709/t8098/E287054536   \n",
       "22        b2395/t5610/E9167   \n",
       "25        b2350/t5538/E5914   \n",
       "35        b2388/t6152/E8255   \n",
       "44       b2777/t6671/E10142   \n",
       "47        b2330/t6306/E9562   \n",
       "60       b2229/t5296/E16327   \n",
       "64        b2452/t6295/E9528   \n",
       "65        b2118/t6260/E9309   \n",
       "72        b1788/t7028/E8774   \n",
       "76        b1256/t7043/E3711   \n",
       "78        b2534/t6367/E3228   \n",
       "89        b2586/t6038/E8001   \n",
       "90        b2842/t6619/E9968   \n",
       "91        b3207/t7658/E7005   \n",
       "95       b2156/t6127/E17269   \n",
       "96       b2360/t6114/E19470   \n",
       "102       b2274/t6386/E9006   \n",
       "103       b2379/t5950/E7543   \n",
       "105       b2437/t5880/E9777   \n",
       "106       b2273/t5934/E8399   \n",
       "107      b2578/t6826/E10658   \n",
       "111       b2873/t6709/E2138   \n",
       "117       b2712/t6304/E9551   \n",
       "\n",
       "                                                 snums  length_snums  \n",
       "0    [b2312/t5317/E5317/3, b2312/t5317/E5317/9, b23...             9  \n",
       "5    [b2710/t6297/E9529/3, b2710/t6297/E9529/4, b27...             9  \n",
       "9    [b1257/t6206/E8969/1, b1257/t6206/E8969/6, b12...             9  \n",
       "12   [b2709/t8098/E287054536/301, b2709/t8098/E2870...             4  \n",
       "22   [b2395/t5610/E9167/3, b2395/t5610/E9167/10, b2...             5  \n",
       "25   [b2350/t5538/E5914/9, b2350/t5538/E5914/11, b2...             9  \n",
       "35   [b2388/t6152/E8255/3, b2388/t6152/E8255/4, b23...             5  \n",
       "44   [b2777/t6671/E10142/1, b2777/t6671/E10142/6, b...             8  \n",
       "47   [b2330/t6306/E9562/7211_1, b2330/t6306/E9562/7...             5  \n",
       "60   [b2229/t5296/E16327/4, b2229/t5296/E16327/3, b...             7  \n",
       "64   [b2452/t6295/E9528/4, b2452/t6295/E9528/11, b2...             5  \n",
       "65   [b2118/t6260/E9309/2, b2118/t6260/E9309/5, b21...             9  \n",
       "72   [b1788/t7028/E8774/9, b1788/t7028/E8774/10, b1...             5  \n",
       "76   [b1256/t7043/E3711/4, b1256/t7043/E3711/3, b12...             7  \n",
       "78   [b2534/t6367/E3228/301, b2534/t6367/E3228/6, b...             6  \n",
       "89                            [b2586/t6038/E8001/7211]             1  \n",
       "90   [b2842/t6619/E9968/1, b2842/t6619/E9968/8, b28...             8  \n",
       "91                               [b3207/t7658/E7005/4]             1  \n",
       "95   [b2156/t6127/E17269/1, b2156/t6127/E17269/6, b...             8  \n",
       "96   [b2360/t6114/E19470/7, b2360/t6114/E19470/4, b...             8  \n",
       "102  [b2274/t6386/E9006/6, b2274/t6386/E9006/5, b22...             3  \n",
       "103  [b2379/t5950/E7543/1, b2379/t5950/E7543/6, b23...             5  \n",
       "105  [b2437/t5880/E9777/12, b2437/t5880/E9777/11, b...             4  \n",
       "106  [b2273/t5934/E8399/5, b2273/t5934/E8399/2, b22...             5  \n",
       "107  [b2578/t6826/E10658/900, b2578/t6826/E10658/90...             3  \n",
       "111  [b2873/t6709/E2138/600, b2873/t6709/E2138/7, b...             9  \n",
       "117  [b2712/t6304/E9551/7211, b2712/t6304/E9551/721...             4  "
      ]
     },
     "execution_count": 51,
     "metadata": {},
     "output_type": "execute_result"
    }
   ],
   "source": [
    "Enums_df[Enums_df.length_snums <10]"
   ]
  },
  {
   "cell_type": "code",
   "execution_count": 48,
   "metadata": {
    "collapsed": false
   },
   "outputs": [
    {
     "data": {
      "text/plain": [
       "0               object\n",
       "snums           object\n",
       "length_snums     int64\n",
       "dtype: object"
      ]
     },
     "execution_count": 48,
     "metadata": {},
     "output_type": "execute_result"
    }
   ],
   "source": [
    "Enums_df.dtypes"
   ]
  },
  {
   "cell_type": "code",
   "execution_count": null,
   "metadata": {
    "collapsed": true
   },
   "outputs": [],
   "source": []
  }
 ],
 "metadata": {
  "kernelspec": {
   "display_name": "python36",
   "language": "python",
   "name": "python36"
  },
  "language_info": {
   "codemirror_mode": {
    "name": "ipython",
    "version": 3
   },
   "file_extension": ".py",
   "mimetype": "text/x-python",
   "name": "python",
   "nbconvert_exporter": "python",
   "pygments_lexer": "ipython3",
   "version": "3.6.2"
  }
 },
 "nbformat": 4,
 "nbformat_minor": 2
}
