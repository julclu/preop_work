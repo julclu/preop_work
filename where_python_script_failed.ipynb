{
 "cells": [
  {
   "cell_type": "code",
   "execution_count": null,
   "metadata": {
    "collapsed": true
   },
   "outputs": [],
   "source": []
  },
  {
   "cell_type": "code",
   "execution_count": 31,
   "metadata": {
    "collapsed": true
   },
   "outputs": [],
   "source": [
    "empty_dirs = read.table('/data/RECglioma/archived/empty_files.txt')"
   ]
  },
  {
   "cell_type": "code",
   "execution_count": 32,
   "metadata": {
    "collapsed": false
   },
   "outputs": [
    {
     "data": {
      "text/html": [
       "<table>\n",
       "<thead><tr><th scope=col>V1</th></tr></thead>\n",
       "<tbody>\n",
       "\t<tr><td>./b2268/t7486/.qrtmp/1 </td></tr>\n",
       "\t<tr><td>./b2268/t7486/.qrtmp/11</td></tr>\n",
       "\t<tr><td>./b2268/t7486/.qrtmp/6 </td></tr>\n",
       "\t<tr><td>./b2268/t7486/.qrtmp/2 </td></tr>\n",
       "\t<tr><td>./b2268/t7486/.qrtmp/8 </td></tr>\n",
       "\t<tr><td>./b2268/t7486/.qrtmp/12</td></tr>\n",
       "\t<tr><td>./b2268/t7486/.qrtmp/5 </td></tr>\n",
       "\t<tr><td>./b2268/t7486/.qrtmp/7 </td></tr>\n",
       "\t<tr><td>./b2268/t7486/.qrtmp/10</td></tr>\n",
       "\t<tr><td>./b2268/t7486/.qrtmp/4 </td></tr>\n",
       "\t<tr><td>./b2268/t7486/.qrtmp/9 </td></tr>\n",
       "\t<tr><td>./b2268/t7486/.qrtmp/3 </td></tr>\n",
       "\t<tr><td>./b2312/t5317/.qrtmp/1 </td></tr>\n",
       "\t<tr><td>./b2871/t6707/moved    </td></tr>\n",
       "\t<tr><td>./b2901/t8089/.qrtmp/24</td></tr>\n",
       "\t<tr><td>./b2901/t8089/.qrtmp/16</td></tr>\n",
       "\t<tr><td>./b2901/t8089/.qrtmp/7 </td></tr>\n",
       "\t<tr><td>./b2901/t8089/.qrtmp/23</td></tr>\n",
       "\t<tr><td>./b2901/t8089/.qrtmp/15</td></tr>\n",
       "\t<tr><td>./b2901/t8089/.qrtmp/3 </td></tr>\n",
       "\t<tr><td>./b2901/t8089/.qrtmp/18</td></tr>\n",
       "\t<tr><td>./b2901/t8089/.qrtmp/12</td></tr>\n",
       "\t<tr><td>./b2901/t8089/.qrtmp/4 </td></tr>\n",
       "\t<tr><td>./b2901/t8089/.qrtmp/20</td></tr>\n",
       "\t<tr><td>./b2901/t8089/.qrtmp/6 </td></tr>\n",
       "\t<tr><td>./b2901/t8089/.qrtmp/22</td></tr>\n",
       "\t<tr><td>./b2901/t8089/.qrtmp/1 </td></tr>\n",
       "\t<tr><td>./b2901/t8089/.qrtmp/17</td></tr>\n",
       "\t<tr><td>./b2901/t8089/.qrtmp/13</td></tr>\n",
       "\t<tr><td>./b2901/t8089/.qrtmp/5 </td></tr>\n",
       "\t<tr><td>⋮</td></tr>\n",
       "\t<tr><td>./b3084/t7332/.qrtmp/7 </td></tr>\n",
       "\t<tr><td>./b3084/t7332/.qrtmp/3 </td></tr>\n",
       "\t<tr><td>./b3084/t7332/.qrtmp/9 </td></tr>\n",
       "\t<tr><td>./b3084/t7332/.qrtmp/14</td></tr>\n",
       "\t<tr><td>./b3084/t7332/.qrtmp/21</td></tr>\n",
       "\t<tr><td>./b3084/t7332/.qrtmp/13</td></tr>\n",
       "\t<tr><td>./b3084/t7332/.qrtmp/4 </td></tr>\n",
       "\t<tr><td>./b2571/t7444/.qrtmp   </td></tr>\n",
       "\t<tr><td>./b3009/t7329/.qrtmp/10</td></tr>\n",
       "\t<tr><td>./b3009/t7329/.qrtmp/2 </td></tr>\n",
       "\t<tr><td>./b3009/t7329/.qrtmp/8 </td></tr>\n",
       "\t<tr><td>./b3009/t7329/.qrtmp/13</td></tr>\n",
       "\t<tr><td>./b3009/t7329/.qrtmp/6 </td></tr>\n",
       "\t<tr><td>./b3009/t7329/.qrtmp/14</td></tr>\n",
       "\t<tr><td>./b3009/t7329/.qrtmp/9 </td></tr>\n",
       "\t<tr><td>./b3009/t7329/.qrtmp/16</td></tr>\n",
       "\t<tr><td>./b3009/t7329/.qrtmp/3 </td></tr>\n",
       "\t<tr><td>./b3009/t7329/.qrtmp/4 </td></tr>\n",
       "\t<tr><td>./b3009/t7329/.qrtmp/7 </td></tr>\n",
       "\t<tr><td>./b3009/t7329/.qrtmp/12</td></tr>\n",
       "\t<tr><td>./b3197/t7628/.qrtmp/26</td></tr>\n",
       "\t<tr><td>./b3207/t7658/.qrtmp/20</td></tr>\n",
       "\t<tr><td>./b3207/t7658/.qrtmp/3 </td></tr>\n",
       "\t<tr><td>./b3207/t7658/.qrtmp/4 </td></tr>\n",
       "\t<tr><td>./b3207/t7658/.qrtmp/13</td></tr>\n",
       "\t<tr><td>./b3207/t7658/.qrtmp/1 </td></tr>\n",
       "\t<tr><td>./b3207/t7658/.qrtmp/14</td></tr>\n",
       "\t<tr><td>./b3207/t7658/.qrtmp/28</td></tr>\n",
       "\t<tr><td>./b3207/t7658/.qrtmp/2 </td></tr>\n",
       "\t<tr><td>./b3207/t7658/.qrtmp/17</td></tr>\n",
       "</tbody>\n",
       "</table>\n"
      ],
      "text/latex": [
       "\\begin{tabular}{r|l}\n",
       " V1\\\\\n",
       "\\hline\n",
       "\t ./b2268/t7486/.qrtmp/1 \\\\\n",
       "\t ./b2268/t7486/.qrtmp/11\\\\\n",
       "\t ./b2268/t7486/.qrtmp/6 \\\\\n",
       "\t ./b2268/t7486/.qrtmp/2 \\\\\n",
       "\t ./b2268/t7486/.qrtmp/8 \\\\\n",
       "\t ./b2268/t7486/.qrtmp/12\\\\\n",
       "\t ./b2268/t7486/.qrtmp/5 \\\\\n",
       "\t ./b2268/t7486/.qrtmp/7 \\\\\n",
       "\t ./b2268/t7486/.qrtmp/10\\\\\n",
       "\t ./b2268/t7486/.qrtmp/4 \\\\\n",
       "\t ./b2268/t7486/.qrtmp/9 \\\\\n",
       "\t ./b2268/t7486/.qrtmp/3 \\\\\n",
       "\t ./b2312/t5317/.qrtmp/1 \\\\\n",
       "\t ./b2871/t6707/moved    \\\\\n",
       "\t ./b2901/t8089/.qrtmp/24\\\\\n",
       "\t ./b2901/t8089/.qrtmp/16\\\\\n",
       "\t ./b2901/t8089/.qrtmp/7 \\\\\n",
       "\t ./b2901/t8089/.qrtmp/23\\\\\n",
       "\t ./b2901/t8089/.qrtmp/15\\\\\n",
       "\t ./b2901/t8089/.qrtmp/3 \\\\\n",
       "\t ./b2901/t8089/.qrtmp/18\\\\\n",
       "\t ./b2901/t8089/.qrtmp/12\\\\\n",
       "\t ./b2901/t8089/.qrtmp/4 \\\\\n",
       "\t ./b2901/t8089/.qrtmp/20\\\\\n",
       "\t ./b2901/t8089/.qrtmp/6 \\\\\n",
       "\t ./b2901/t8089/.qrtmp/22\\\\\n",
       "\t ./b2901/t8089/.qrtmp/1 \\\\\n",
       "\t ./b2901/t8089/.qrtmp/17\\\\\n",
       "\t ./b2901/t8089/.qrtmp/13\\\\\n",
       "\t ./b2901/t8089/.qrtmp/5 \\\\\n",
       "\t ⋮\\\\\n",
       "\t ./b3084/t7332/.qrtmp/7 \\\\\n",
       "\t ./b3084/t7332/.qrtmp/3 \\\\\n",
       "\t ./b3084/t7332/.qrtmp/9 \\\\\n",
       "\t ./b3084/t7332/.qrtmp/14\\\\\n",
       "\t ./b3084/t7332/.qrtmp/21\\\\\n",
       "\t ./b3084/t7332/.qrtmp/13\\\\\n",
       "\t ./b3084/t7332/.qrtmp/4 \\\\\n",
       "\t ./b2571/t7444/.qrtmp   \\\\\n",
       "\t ./b3009/t7329/.qrtmp/10\\\\\n",
       "\t ./b3009/t7329/.qrtmp/2 \\\\\n",
       "\t ./b3009/t7329/.qrtmp/8 \\\\\n",
       "\t ./b3009/t7329/.qrtmp/13\\\\\n",
       "\t ./b3009/t7329/.qrtmp/6 \\\\\n",
       "\t ./b3009/t7329/.qrtmp/14\\\\\n",
       "\t ./b3009/t7329/.qrtmp/9 \\\\\n",
       "\t ./b3009/t7329/.qrtmp/16\\\\\n",
       "\t ./b3009/t7329/.qrtmp/3 \\\\\n",
       "\t ./b3009/t7329/.qrtmp/4 \\\\\n",
       "\t ./b3009/t7329/.qrtmp/7 \\\\\n",
       "\t ./b3009/t7329/.qrtmp/12\\\\\n",
       "\t ./b3197/t7628/.qrtmp/26\\\\\n",
       "\t ./b3207/t7658/.qrtmp/20\\\\\n",
       "\t ./b3207/t7658/.qrtmp/3 \\\\\n",
       "\t ./b3207/t7658/.qrtmp/4 \\\\\n",
       "\t ./b3207/t7658/.qrtmp/13\\\\\n",
       "\t ./b3207/t7658/.qrtmp/1 \\\\\n",
       "\t ./b3207/t7658/.qrtmp/14\\\\\n",
       "\t ./b3207/t7658/.qrtmp/28\\\\\n",
       "\t ./b3207/t7658/.qrtmp/2 \\\\\n",
       "\t ./b3207/t7658/.qrtmp/17\\\\\n",
       "\\end{tabular}\n"
      ],
      "text/markdown": [
       "\n",
       "V1 | \n",
       "|---|---|---|---|---|---|---|---|---|---|---|---|---|---|---|---|---|---|---|---|---|---|---|---|---|---|---|---|---|---|---|---|---|---|---|---|---|---|---|---|---|---|---|---|---|---|---|---|---|---|---|---|---|---|---|---|---|---|---|---|---|\n",
       "| ./b2268/t7486/.qrtmp/1  | \n",
       "| ./b2268/t7486/.qrtmp/11 | \n",
       "| ./b2268/t7486/.qrtmp/6  | \n",
       "| ./b2268/t7486/.qrtmp/2  | \n",
       "| ./b2268/t7486/.qrtmp/8  | \n",
       "| ./b2268/t7486/.qrtmp/12 | \n",
       "| ./b2268/t7486/.qrtmp/5  | \n",
       "| ./b2268/t7486/.qrtmp/7  | \n",
       "| ./b2268/t7486/.qrtmp/10 | \n",
       "| ./b2268/t7486/.qrtmp/4  | \n",
       "| ./b2268/t7486/.qrtmp/9  | \n",
       "| ./b2268/t7486/.qrtmp/3  | \n",
       "| ./b2312/t5317/.qrtmp/1  | \n",
       "| ./b2871/t6707/moved     | \n",
       "| ./b2901/t8089/.qrtmp/24 | \n",
       "| ./b2901/t8089/.qrtmp/16 | \n",
       "| ./b2901/t8089/.qrtmp/7  | \n",
       "| ./b2901/t8089/.qrtmp/23 | \n",
       "| ./b2901/t8089/.qrtmp/15 | \n",
       "| ./b2901/t8089/.qrtmp/3  | \n",
       "| ./b2901/t8089/.qrtmp/18 | \n",
       "| ./b2901/t8089/.qrtmp/12 | \n",
       "| ./b2901/t8089/.qrtmp/4  | \n",
       "| ./b2901/t8089/.qrtmp/20 | \n",
       "| ./b2901/t8089/.qrtmp/6  | \n",
       "| ./b2901/t8089/.qrtmp/22 | \n",
       "| ./b2901/t8089/.qrtmp/1  | \n",
       "| ./b2901/t8089/.qrtmp/17 | \n",
       "| ./b2901/t8089/.qrtmp/13 | \n",
       "| ./b2901/t8089/.qrtmp/5  | \n",
       "| ⋮ | \n",
       "| ./b3084/t7332/.qrtmp/7  | \n",
       "| ./b3084/t7332/.qrtmp/3  | \n",
       "| ./b3084/t7332/.qrtmp/9  | \n",
       "| ./b3084/t7332/.qrtmp/14 | \n",
       "| ./b3084/t7332/.qrtmp/21 | \n",
       "| ./b3084/t7332/.qrtmp/13 | \n",
       "| ./b3084/t7332/.qrtmp/4  | \n",
       "| ./b2571/t7444/.qrtmp    | \n",
       "| ./b3009/t7329/.qrtmp/10 | \n",
       "| ./b3009/t7329/.qrtmp/2  | \n",
       "| ./b3009/t7329/.qrtmp/8  | \n",
       "| ./b3009/t7329/.qrtmp/13 | \n",
       "| ./b3009/t7329/.qrtmp/6  | \n",
       "| ./b3009/t7329/.qrtmp/14 | \n",
       "| ./b3009/t7329/.qrtmp/9  | \n",
       "| ./b3009/t7329/.qrtmp/16 | \n",
       "| ./b3009/t7329/.qrtmp/3  | \n",
       "| ./b3009/t7329/.qrtmp/4  | \n",
       "| ./b3009/t7329/.qrtmp/7  | \n",
       "| ./b3009/t7329/.qrtmp/12 | \n",
       "| ./b3197/t7628/.qrtmp/26 | \n",
       "| ./b3207/t7658/.qrtmp/20 | \n",
       "| ./b3207/t7658/.qrtmp/3  | \n",
       "| ./b3207/t7658/.qrtmp/4  | \n",
       "| ./b3207/t7658/.qrtmp/13 | \n",
       "| ./b3207/t7658/.qrtmp/1  | \n",
       "| ./b3207/t7658/.qrtmp/14 | \n",
       "| ./b3207/t7658/.qrtmp/28 | \n",
       "| ./b3207/t7658/.qrtmp/2  | \n",
       "| ./b3207/t7658/.qrtmp/17 | \n",
       "\n",
       "\n"
      ],
      "text/plain": [
       "    V1                     \n",
       "1   ./b2268/t7486/.qrtmp/1 \n",
       "2   ./b2268/t7486/.qrtmp/11\n",
       "3   ./b2268/t7486/.qrtmp/6 \n",
       "4   ./b2268/t7486/.qrtmp/2 \n",
       "5   ./b2268/t7486/.qrtmp/8 \n",
       "6   ./b2268/t7486/.qrtmp/12\n",
       "7   ./b2268/t7486/.qrtmp/5 \n",
       "8   ./b2268/t7486/.qrtmp/7 \n",
       "9   ./b2268/t7486/.qrtmp/10\n",
       "10  ./b2268/t7486/.qrtmp/4 \n",
       "11  ./b2268/t7486/.qrtmp/9 \n",
       "12  ./b2268/t7486/.qrtmp/3 \n",
       "13  ./b2312/t5317/.qrtmp/1 \n",
       "14  ./b2871/t6707/moved    \n",
       "15  ./b2901/t8089/.qrtmp/24\n",
       "16  ./b2901/t8089/.qrtmp/16\n",
       "17  ./b2901/t8089/.qrtmp/7 \n",
       "18  ./b2901/t8089/.qrtmp/23\n",
       "19  ./b2901/t8089/.qrtmp/15\n",
       "20  ./b2901/t8089/.qrtmp/3 \n",
       "21  ./b2901/t8089/.qrtmp/18\n",
       "22  ./b2901/t8089/.qrtmp/12\n",
       "23  ./b2901/t8089/.qrtmp/4 \n",
       "24  ./b2901/t8089/.qrtmp/20\n",
       "25  ./b2901/t8089/.qrtmp/6 \n",
       "26  ./b2901/t8089/.qrtmp/22\n",
       "27  ./b2901/t8089/.qrtmp/1 \n",
       "28  ./b2901/t8089/.qrtmp/17\n",
       "29  ./b2901/t8089/.qrtmp/13\n",
       "30  ./b2901/t8089/.qrtmp/5 \n",
       "⋮   ⋮                      \n",
       "109 ./b3084/t7332/.qrtmp/7 \n",
       "110 ./b3084/t7332/.qrtmp/3 \n",
       "111 ./b3084/t7332/.qrtmp/9 \n",
       "112 ./b3084/t7332/.qrtmp/14\n",
       "113 ./b3084/t7332/.qrtmp/21\n",
       "114 ./b3084/t7332/.qrtmp/13\n",
       "115 ./b3084/t7332/.qrtmp/4 \n",
       "116 ./b2571/t7444/.qrtmp   \n",
       "117 ./b3009/t7329/.qrtmp/10\n",
       "118 ./b3009/t7329/.qrtmp/2 \n",
       "119 ./b3009/t7329/.qrtmp/8 \n",
       "120 ./b3009/t7329/.qrtmp/13\n",
       "121 ./b3009/t7329/.qrtmp/6 \n",
       "122 ./b3009/t7329/.qrtmp/14\n",
       "123 ./b3009/t7329/.qrtmp/9 \n",
       "124 ./b3009/t7329/.qrtmp/16\n",
       "125 ./b3009/t7329/.qrtmp/3 \n",
       "126 ./b3009/t7329/.qrtmp/4 \n",
       "127 ./b3009/t7329/.qrtmp/7 \n",
       "128 ./b3009/t7329/.qrtmp/12\n",
       "129 ./b3197/t7628/.qrtmp/26\n",
       "130 ./b3207/t7658/.qrtmp/20\n",
       "131 ./b3207/t7658/.qrtmp/3 \n",
       "132 ./b3207/t7658/.qrtmp/4 \n",
       "133 ./b3207/t7658/.qrtmp/13\n",
       "134 ./b3207/t7658/.qrtmp/1 \n",
       "135 ./b3207/t7658/.qrtmp/14\n",
       "136 ./b3207/t7658/.qrtmp/28\n",
       "137 ./b3207/t7658/.qrtmp/2 \n",
       "138 ./b3207/t7658/.qrtmp/17"
      ]
     },
     "metadata": {},
     "output_type": "display_data"
    }
   ],
   "source": [
    "empty_dirs"
   ]
  },
  {
   "cell_type": "code",
   "execution_count": 33,
   "metadata": {
    "collapsed": false
   },
   "outputs": [],
   "source": [
    "library(stringr)\n",
    "empty_dirs = data.frame(str_split_fixed(empty_dirs$V1, \"/\", 5))"
   ]
  },
  {
   "cell_type": "code",
   "execution_count": 39,
   "metadata": {
    "collapsed": false
   },
   "outputs": [],
   "source": [
    "empty_dirs_nodup  = empty_dirs[!duplicated(empty_dirs$X3),]"
   ]
  },
  {
   "cell_type": "code",
   "execution_count": 40,
   "metadata": {
    "collapsed": false
   },
   "outputs": [
    {
     "data": {
      "text/html": [
       "<table>\n",
       "<thead><tr><th></th><th scope=col>X1</th><th scope=col>X2</th><th scope=col>X3</th><th scope=col>X4</th><th scope=col>X5</th></tr></thead>\n",
       "<tbody>\n",
       "\t<tr><th scope=row>1</th><td>.     </td><td>b2268 </td><td>t7486 </td><td>.qrtmp</td><td>1     </td></tr>\n",
       "\t<tr><th scope=row>13</th><td>.     </td><td>b2312 </td><td>t5317 </td><td>.qrtmp</td><td>1     </td></tr>\n",
       "\t<tr><th scope=row>14</th><td>.     </td><td>b2871 </td><td>t6707 </td><td>moved </td><td>      </td></tr>\n",
       "\t<tr><th scope=row>15</th><td>.     </td><td>b2901 </td><td>t8089 </td><td>.qrtmp</td><td>24    </td></tr>\n",
       "\t<tr><th scope=row>36</th><td>.     </td><td>b3091 </td><td>t7338 </td><td>.qrtmp</td><td>5     </td></tr>\n",
       "\t<tr><th scope=row>50</th><td>.     </td><td>b2709 </td><td>t8098 </td><td>.qrtmp</td><td>      </td></tr>\n",
       "\t<tr><th scope=row>51</th><td>.     </td><td>b2850 </td><td>t7016 </td><td>.qrtmp</td><td>      </td></tr>\n",
       "\t<tr><th scope=row>52</th><td>.     </td><td>b2927 </td><td>t8068 </td><td>.qrtmp</td><td>9     </td></tr>\n",
       "\t<tr><th scope=row>66</th><td>.     </td><td>b2667 </td><td>t8085 </td><td>.qrtmp</td><td>      </td></tr>\n",
       "\t<tr><th scope=row>67</th><td>.     </td><td>b2474 </td><td>t7408 </td><td>.qrtmp</td><td>      </td></tr>\n",
       "\t<tr><th scope=row>68</th><td>.     </td><td>b3112 </td><td>t7382 </td><td>E9745 </td><td>12_raw</td></tr>\n",
       "\t<tr><th scope=row>69</th><td>.     </td><td>b2192 </td><td>t8070 </td><td>.qrtmp</td><td>7     </td></tr>\n",
       "\t<tr><th scope=row>81</th><td>.     </td><td>b3043 </td><td>t7227 </td><td>.qrtmp</td><td>10    </td></tr>\n",
       "\t<tr><th scope=row>82</th><td>.     </td><td>b2926 </td><td>t8088 </td><td>.qrtmp</td><td>9     </td></tr>\n",
       "\t<tr><th scope=row>100</th><td>.     </td><td>b3084 </td><td>t7332 </td><td>.qrtmp</td><td>6     </td></tr>\n",
       "\t<tr><th scope=row>116</th><td>.     </td><td>b2571 </td><td>t7444 </td><td>.qrtmp</td><td>      </td></tr>\n",
       "\t<tr><th scope=row>117</th><td>.     </td><td>b3009 </td><td>t7329 </td><td>.qrtmp</td><td>10    </td></tr>\n",
       "\t<tr><th scope=row>129</th><td>.     </td><td>b3197 </td><td>t7628 </td><td>.qrtmp</td><td>26    </td></tr>\n",
       "\t<tr><th scope=row>130</th><td>.     </td><td>b3207 </td><td>t7658 </td><td>.qrtmp</td><td>20    </td></tr>\n",
       "</tbody>\n",
       "</table>\n"
      ],
      "text/latex": [
       "\\begin{tabular}{r|lllll}\n",
       "  & X1 & X2 & X3 & X4 & X5\\\\\n",
       "\\hline\n",
       "\t1 & .      & b2268  & t7486  & .qrtmp & 1     \\\\\n",
       "\t13 & .      & b2312  & t5317  & .qrtmp & 1     \\\\\n",
       "\t14 & .      & b2871  & t6707  & moved  &       \\\\\n",
       "\t15 & .      & b2901  & t8089  & .qrtmp & 24    \\\\\n",
       "\t36 & .      & b3091  & t7338  & .qrtmp & 5     \\\\\n",
       "\t50 & .      & b2709  & t8098  & .qrtmp &       \\\\\n",
       "\t51 & .      & b2850  & t7016  & .qrtmp &       \\\\\n",
       "\t52 & .      & b2927  & t8068  & .qrtmp & 9     \\\\\n",
       "\t66 & .      & b2667  & t8085  & .qrtmp &       \\\\\n",
       "\t67 & .      & b2474  & t7408  & .qrtmp &       \\\\\n",
       "\t68 & .        & b3112    & t7382    & E9745    & 12\\_raw\\\\\n",
       "\t69 & .      & b2192  & t8070  & .qrtmp & 7     \\\\\n",
       "\t81 & .      & b3043  & t7227  & .qrtmp & 10    \\\\\n",
       "\t82 & .      & b2926  & t8088  & .qrtmp & 9     \\\\\n",
       "\t100 & .      & b3084  & t7332  & .qrtmp & 6     \\\\\n",
       "\t116 & .      & b2571  & t7444  & .qrtmp &       \\\\\n",
       "\t117 & .      & b3009  & t7329  & .qrtmp & 10    \\\\\n",
       "\t129 & .      & b3197  & t7628  & .qrtmp & 26    \\\\\n",
       "\t130 & .      & b3207  & t7658  & .qrtmp & 20    \\\\\n",
       "\\end{tabular}\n"
      ],
      "text/markdown": [
       "\n",
       "| <!--/--> | X1 | X2 | X3 | X4 | X5 | \n",
       "|---|---|---|---|---|---|---|---|---|---|---|---|---|---|---|---|---|---|---|\n",
       "| 1 | .      | b2268  | t7486  | .qrtmp | 1      | \n",
       "| 13 | .      | b2312  | t5317  | .qrtmp | 1      | \n",
       "| 14 | .      | b2871  | t6707  | moved  |        | \n",
       "| 15 | .      | b2901  | t8089  | .qrtmp | 24     | \n",
       "| 36 | .      | b3091  | t7338  | .qrtmp | 5      | \n",
       "| 50 | .      | b2709  | t8098  | .qrtmp |        | \n",
       "| 51 | .      | b2850  | t7016  | .qrtmp |        | \n",
       "| 52 | .      | b2927  | t8068  | .qrtmp | 9      | \n",
       "| 66 | .      | b2667  | t8085  | .qrtmp |        | \n",
       "| 67 | .      | b2474  | t7408  | .qrtmp |        | \n",
       "| 68 | .      | b3112  | t7382  | E9745  | 12_raw | \n",
       "| 69 | .      | b2192  | t8070  | .qrtmp | 7      | \n",
       "| 81 | .      | b3043  | t7227  | .qrtmp | 10     | \n",
       "| 82 | .      | b2926  | t8088  | .qrtmp | 9      | \n",
       "| 100 | .      | b3084  | t7332  | .qrtmp | 6      | \n",
       "| 116 | .      | b2571  | t7444  | .qrtmp |        | \n",
       "| 117 | .      | b3009  | t7329  | .qrtmp | 10     | \n",
       "| 129 | .      | b3197  | t7628  | .qrtmp | 26     | \n",
       "| 130 | .      | b3207  | t7658  | .qrtmp | 20     | \n",
       "\n",
       "\n"
      ],
      "text/plain": [
       "    X1 X2    X3    X4     X5    \n",
       "1   .  b2268 t7486 .qrtmp 1     \n",
       "13  .  b2312 t5317 .qrtmp 1     \n",
       "14  .  b2871 t6707 moved        \n",
       "15  .  b2901 t8089 .qrtmp 24    \n",
       "36  .  b3091 t7338 .qrtmp 5     \n",
       "50  .  b2709 t8098 .qrtmp       \n",
       "51  .  b2850 t7016 .qrtmp       \n",
       "52  .  b2927 t8068 .qrtmp 9     \n",
       "66  .  b2667 t8085 .qrtmp       \n",
       "67  .  b2474 t7408 .qrtmp       \n",
       "68  .  b3112 t7382 E9745  12_raw\n",
       "69  .  b2192 t8070 .qrtmp 7     \n",
       "81  .  b3043 t7227 .qrtmp 10    \n",
       "82  .  b2926 t8088 .qrtmp 9     \n",
       "100 .  b3084 t7332 .qrtmp 6     \n",
       "116 .  b2571 t7444 .qrtmp       \n",
       "117 .  b3009 t7329 .qrtmp 10    \n",
       "129 .  b3197 t7628 .qrtmp 26    \n",
       "130 .  b3207 t7658 .qrtmp 20    "
      ]
     },
     "metadata": {},
     "output_type": "display_data"
    }
   ],
   "source": [
    "empty_dirs_nodup"
   ]
  },
  {
   "cell_type": "code",
   "execution_count": 41,
   "metadata": {
    "collapsed": false
   },
   "outputs": [
    {
     "data": {
      "text/html": [
       "<ol class=list-inline>\n",
       "\t<li>19</li>\n",
       "\t<li>5</li>\n",
       "</ol>\n"
      ],
      "text/latex": [
       "\\begin{enumerate*}\n",
       "\\item 19\n",
       "\\item 5\n",
       "\\end{enumerate*}\n"
      ],
      "text/markdown": [
       "1. 19\n",
       "2. 5\n",
       "\n",
       "\n"
      ],
      "text/plain": [
       "[1] 19  5"
      ]
     },
     "metadata": {},
     "output_type": "display_data"
    }
   ],
   "source": [
    "dim(empty_dirs_nodup)"
   ]
  },
  {
   "cell_type": "code",
   "execution_count": 42,
   "metadata": {
    "collapsed": true
   },
   "outputs": [],
   "source": [
    "for_process_again = data.frame(empty_dirs_nodup$X2, empty_dirs_nodup$X3, DUMMY = \"DUMMY\")"
   ]
  },
  {
   "cell_type": "code",
   "execution_count": 46,
   "metadata": {
    "collapsed": false
   },
   "outputs": [
    {
     "ename": "ERROR",
     "evalue": "Error in write.table(for_process_again, file = \"/home/sf673542/preop_convert_work/po1_preop_recur_bnum_tnum_listREDO.19.csv\", : unused arguments (header = F, colnames = F)\n",
     "output_type": "error",
     "traceback": [
      "Error in write.table(for_process_again, file = \"/home/sf673542/preop_convert_work/po1_preop_recur_bnum_tnum_listREDO.19.csv\", : unused arguments (header = F, colnames = F)\nTraceback:\n"
     ]
    }
   ],
   "source": []
  },
  {
   "cell_type": "code",
   "execution_count": 47,
   "metadata": {
    "collapsed": false
   },
   "outputs": [],
   "source": [
    "write.table(for_process_again, file = '/home/sf673542/preop_convert_work/po1_preop_recur_bnum_tnum_listREDO.19.csv', row.names = F, quote = F, sep=\",\", col.names = F)\n"
   ]
  },
  {
   "cell_type": "code",
   "execution_count": null,
   "metadata": {
    "collapsed": true
   },
   "outputs": [],
   "source": []
  }
 ],
 "metadata": {
  "kernelspec": {
   "display_name": "R",
   "language": "R",
   "name": "ir"
  },
  "language_info": {
   "codemirror_mode": "r",
   "file_extension": ".r",
   "mimetype": "text/x-r-source",
   "name": "R",
   "pygments_lexer": "r",
   "version": "3.4.0"
  }
 },
 "nbformat": 4,
 "nbformat_minor": 2
}
